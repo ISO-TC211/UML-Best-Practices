{
 "cells": [
  {
   "cell_type": "code",
   "execution_count": null,
   "metadata": {},
   "outputs": [],
   "source": [
    "from Parameters import *\n",
    "from EAConnect import *\n",
    "from HM_Controls import *\n",
    "import sys\n",
    "import pandas as pd\n",
    "\n",
    "mainFolder = \"C:\\\\Users\\\\JETKNU\\OneDrive - Statens Kartverk\\\\Forskningsdata\\\\UML\\DatexII\"\n",
    "repo_path = mainFolder + \"\\\\DatexIIPIM.qea\"\n",
    "modelName = 'DATEX2System'\n",
    "\n",
    "\n",
    "# Open EA Repository and find Model\n",
    "eaApp = openEAapp()\n",
    "eaRepo = openEArepo(eaApp,repo_path)\n",
    "try:\n",
    "    omMod = eaRepo.Models.GetByName(modelName)\n",
    "    printTS('Model \"' + modelName + '\" found with PackageGUID ' + omMod.PackageGUID )\n",
    "except Exception as e:\n",
    "    printTS('Model  \"' + modelName + '\" not found!')\n",
    "    closeEA(eaRepo)\n",
    "    sys.exit()\n",
    "printTS('Number of main packages: ' + str(omMod.Packages.Count))\n",
    "timestamp = datetime.now().strftime(\"%Y-%m-%d %H:%M:%S\")"
   ]
  }
 ],
 "metadata": {
  "language_info": {
   "name": "python"
  }
 },
 "nbformat": 4,
 "nbformat_minor": 2
}
