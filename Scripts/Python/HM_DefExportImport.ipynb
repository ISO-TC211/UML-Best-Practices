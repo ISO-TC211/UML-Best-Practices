{
 "cells": [
  {
   "cell_type": "markdown",
   "metadata": {},
   "source": [
    "# ISO TC/211 Harmonised Model Definitions"
   ]
  },
  {
   "cell_type": "markdown",
   "metadata": {},
   "source": [
    "Connect to the EA app and model repository"
   ]
  },
  {
   "cell_type": "code",
   "execution_count": 6,
   "metadata": {},
   "outputs": [
    {
     "name": "stdout",
     "output_type": "stream",
     "text": [
      "2025-03-25 09:50:17   Hi EA - are you there? \n",
      "2025-03-25 09:50:17   I am here\n",
      "2025-03-25 09:50:17   Hi EA - Please open this repository: C:\\Data\\GitHub\\ISO TC211\\HMMG\\EditorialVersion\\ISOTC211_HM EditorialVersion.qea\n",
      "2025-03-25 09:50:20   OK! Repository C:\\Data\\GitHub\\ISO TC211\\HMMG\\EditorialVersion\\ISOTC211_HM EditorialVersion.qea is ready!\n",
      "2025-03-25 09:50:20   Model \"Conceptual Models\" found with PackageGUID {7B6B28E9-C583-4363-9E9C-F37A37AE06C9}\n",
      "2025-03-25 09:50:20   Number of main packages: 5\n"
     ]
    }
   ],
   "source": [
    "from Parameters import *\n",
    "from EAConnect import *\n",
    "from HM_Controls import *\n",
    "import sys\n",
    "import pandas as pd\n",
    "\n",
    "# Open EA Repository and find Model\n",
    "eaApp = openEAapp()\n",
    "eaRepo = openEArepo(eaApp,repo_path)\n",
    "try:\n",
    "    omMod = eaRepo.Models.GetByName(modelName)\n",
    "    printTS('Model \"' + modelName + '\" found with PackageGUID ' + omMod.PackageGUID )\n",
    "except Exception as e:\n",
    "    printTS('Model  \"' + modelName + '\" not found!')\n",
    "    closeEA(eaRepo)\n",
    "    sys.exit()\n",
    "printTS('Number of main packages: ' + str(omMod.Packages.Count))\n",
    "timestamp = datetime.now().strftime(\"%Y-%m-%d %H:%M:%S\")"
   ]
  },
  {
   "cell_type": "markdown",
   "metadata": {},
   "source": [
    "## Select a package in EA before continuing"
   ]
  },
  {
   "cell_type": "code",
   "execution_count": 19,
   "metadata": {},
   "outputs": [
    {
     "name": "stdout",
     "output_type": "stream",
     "text": [
      "2025-03-25 10:40:30   Selected package name: ISO/CD TS 19166 Edition 2\n"
     ]
    }
   ],
   "source": [
    "thePackage = eaRepo.GetTreeSelectedPackage()\n",
    "printTS('Selected package name: ' + thePackage.Name)"
   ]
  },
  {
   "cell_type": "markdown",
   "metadata": {},
   "source": [
    "**Definitions:**\n",
    "\n",
    "List all definitions for classes, attributes and navigable associations"
   ]
  },
  {
   "cell_type": "code",
   "execution_count": 8,
   "metadata": {},
   "outputs": [
    {
     "name": "stdout",
     "output_type": "stream",
     "text": [
      "2025-03-25 09:50:52   ----------------------------\n",
      "2025-03-25 09:50:52   Package: PK\n",
      "2025-03-25 09:50:52   ----------------------------\n",
      "2025-03-25 09:50:52   Package: B2GM\n",
      "2025-03-25 09:50:52   ----------------------------\n",
      "2025-03-25 09:50:52   Package: B2GM EM\n",
      "2025-03-25 09:50:52   ----------------------------\n",
      "2025-03-25 09:50:52   Package: B2GM LM\n",
      "2025-03-25 09:50:52   ----------------------------\n",
      "2025-03-25 09:50:52   Package: B2GM PD\n",
      "2025-03-25 09:50:52   ----------------------------\n",
      "2025-03-25 09:50:52   Package: BIM model\n",
      "2025-03-25 09:50:52   ----------------------------\n",
      "2025-03-25 09:50:52   Package: GFM\n",
      "2025-03-25 09:50:52   ----------------------------\n",
      "2025-03-25 09:50:52   Package: GIS model\n",
      "2025-03-25 09:50:53   ----------------------------\n",
      "2025-03-25 09:50:53   Package: UC\n",
      "2025-03-25 09:50:53   Count:124\n"
     ]
    }
   ],
   "source": [
    "#defDf = pd.DataFrame(columns=['Type','PackageName','ElementName','PropertyName','Supplier'])\n",
    "defDf = listAllDefinitions(eaRepo,thePackage)\n",
    "\n",
    "printTS('Count:' + str(len(defDf)))"
   ]
  },
  {
   "cell_type": "markdown",
   "metadata": {},
   "source": [
    "Restore package to baseline and reselect package before continuing"
   ]
  },
  {
   "cell_type": "code",
   "execution_count": null,
   "metadata": {},
   "outputs": [
    {
     "name": "stdout",
     "output_type": "stream",
     "text": [
      "2025-03-25 10:41:46   EM_destination: Destination element name for mapping\n",
      "\n",
      "2025-03-25 10:41:46   EM_rule: Element mapping rule name and operation.\n",
      "1) Replace: when element mapping, the mapping destination is replaced by the mapping source.\n",
      "2) Append: when mapping, the mapping source is added to the mapping destination.\n",
      "\n",
      "2025-03-25 10:41:46   EM_ruleset: EM_ruleset includes ruleset name, description, BIM model source URI, GIS model source URL and EM_rule as rule.\n",
      "\n",
      "2025-03-25 10:41:46   EM_source: Source element name for mapping\n",
      "\n",
      "2025-03-25 10:41:46   LM_rule: B2G LM rule defines LOD generation operator like footprint to return the footprint geometry of Building element, OBB to return OBB (oriented bounding box) of Building element etc. \n",
      "\n",
      "\n",
      "2025-03-25 10:41:46   LM_ruleset: The mapping operator shall be defined for LOD mapping.\n",
      "\n",
      "\n",
      "2025-03-25 10:41:46   OBB: oriented bounding box of element.\n",
      "\n",
      "2025-03-25 10:41:46   vector3D: Defines the 3D vector elements\n",
      "\n",
      "2025-03-25 10:41:46   PD: PD shall manage the logic view (PD_logic_view), data view (PD_data_view) and style view (PD_style_view).\n",
      "\n",
      "2025-03-25 10:41:46   PD_category: With a property definition to map in PD_data_view, a category to group similar properties can be defined. A category has name.\n",
      "\n",
      "2025-03-25 10:41:46   PD_data_view: The PD data view, similar to a data filter, shall define which BIM element the data set shall be linked with and imported from the external database.\n",
      "\n",
      "2025-03-25 10:41:46   PD_element: If an element to be connected in PD_data_view is defined, it shall have a PK like a GUID.\n",
      "\n",
      "2025-03-25 10:41:46   PD_logic_view: The PD logic view shall define how to import the data set from an external database.\n",
      "\n",
      "2025-03-25 10:41:46   PD_property: Properties shall have unique names for mapping within categories.\n",
      "\n",
      "2025-03-25 10:41:46   PD_property_style: When a property style is defined, the category and attribute name need to be defined so that the property can be identified.\n",
      "\n",
      "2025-03-25 10:41:46   PD_style_view: The PD style view shall define how to format the data to enhance understanding and meaning.\n",
      "\n",
      "2025-03-25 10:41:46   BIM_element: BIM_element is capability to define the runtime of construction components, geometry, property, and relationship.\n",
      "\n",
      "2025-03-25 10:41:46   BIM_model: BIM conceptual model includes BIM_element list.\n",
      "\n",
      "2025-03-25 10:41:46   geometry: geometry is capability to contain the solid information including B-rep (boundary representation) based on Solid. The B-rep information must include the topology such as the vertex, edge, loop and faces.\n",
      "\n",
      "2025-03-25 10:41:46   geometry2D: geometry2D defines 2D geometry elements like line, curve, polyline etc. \n",
      "\n",
      "2025-03-25 10:41:46   geometry3D: geometry3D defines 3D geometry elements like 3D plane, 3D surface, 3D cube etc.  \n",
      "\n",
      "\n",
      "2025-03-25 10:41:46   property: property defines the {name, value type, initial value} pairs.\n",
      "\n",
      "2025-03-25 10:41:46   property_set: property_set is capability to categorize the attributes of the element\n",
      "\n",
      "2025-03-25 10:41:46   relationship: relationship is capability to contain the relationships between the elements.\n",
      "\n",
      "2025-03-25 10:41:46   runtime: runtime is capability to identify the types of element. The types are building information components such as walls, doors, and rooms.\n",
      "\n",
      "2025-03-25 10:41:46   geometry: geometry is capability to contain the solid information including B-rep (boundary representation) based on Solid. The B-rep information must include the topology such as the vertex, edge, loop and faces.\n",
      "\n",
      "\n",
      "2025-03-25 10:41:46   GIS_element: GIS_element is capability to define the runtime of GIS components, geometry, property, and relationship.\n",
      "\n",
      "\n",
      "2025-03-25 10:41:46   GIS_model: GIS conceptual model includes GIS_element list.\n",
      "\n",
      "\n",
      "2025-03-25 10:41:46   LOD: Level of detail includes geometry.\n",
      "\n",
      "2025-03-25 10:41:46   property: property defines the {name, value type, initial value} pairs.\n",
      "\n",
      "\n",
      "2025-03-25 10:41:46   property_set: property_set is capability to categorize the attributes of the element\n",
      "\n",
      "\n",
      "2025-03-25 10:41:46   relationship: relationship is capability to contain the relationships between the elements.\n",
      "\n",
      "\n",
      "2025-03-25 10:41:46   runtime: runtime is capability to identify the types of element. The types are building information components such as walls, doors, and rooms.\n",
      "\n",
      "\n"
     ]
    }
   ],
   "source": [
    "# Loop through defDf\n",
    "for index, row in defDf.iterrows():\n",
    "    # printTS('Type: ' + row[\"Type\"])\n",
    "    if row['Type'].upper() in [\"CLASS\",\"INTERFACE\", \"DATATYPE\",\"ENUMERATION\"]:\n",
    "        try:\n",
    "            eaEl = eaRepo.GetElementByGuid(str(row['GUID']))\n",
    "            eaEl.Notes = row['Definition']\n",
    "            eaEl.Update()\n",
    "            # printTS(eaEl.Name + ': ' + row['Definition'])\n",
    "        except Exception as e:\n",
    "            printTS('ERROR|' + str(e)) \n",
    "# If Type.upper == \"ATTRIBUTE\": reaRepo.getAttributeByGUID(GUID)\n",
    "# If Type.upper == \"ROLE\": reaRepo.getConnectorByGUID(GUID)\n",
    "# A bit more here..."
   ]
  },
  {
   "cell_type": "markdown",
   "metadata": {},
   "source": [
    "Export report"
   ]
  },
  {
   "cell_type": "code",
   "execution_count": 9,
   "metadata": {},
   "outputs": [
    {
     "name": "stdout",
     "output_type": "stream",
     "text": [
      "\n",
      "Exported definitions report to file: C:\\Data\\GitHub\\ISO TC211\\HMMG\\EditorialVersion\\Definitions.xlsx\n",
      "Exported role names report to file: C:\\Data\\GitHub\\ISO TC211\\HMMG\\EditorialVersion\\Definitions.xlsx\n"
     ]
    },
    {
     "name": "stderr",
     "output_type": "stream",
     "text": [
      "C:\\Users\\JETKNU\\AppData\\Local\\Temp\\ipykernel_18568\\1554093949.py:8: FutureWarning: Starting with pandas version 3.0 all arguments of to_excel except for the argument 'excel_writer' will be keyword-only.\n",
      "  noDef.to_excel(writer,'Definitions')\n",
      "C:\\Users\\JETKNU\\AppData\\Local\\Temp\\ipykernel_18568\\1554093949.py:13: FutureWarning: Starting with pandas version 3.0 all arguments of to_excel except for the argument 'excel_writer' will be keyword-only.\n",
      "  noDef.to_excel(writer,'Role names')\n"
     ]
    }
   ],
   "source": [
    "print('')\n",
    "file_path = mainFolder + '\\\\Definitions.xlsx'\n",
    "# Export to Excel \n",
    "writer = pd.ExcelWriter(file_path)\n",
    "\n",
    "noDef = defDf[defDf['Type']!='Role name']\n",
    "if len(noDef) > 0:\n",
    "    noDef.to_excel(writer,'Definitions') \n",
    "    print(f\"Exported definitions report to file: {file_path}\")   \n",
    "\n",
    "noDef = defDf[defDf['Type']=='Role name']\n",
    "if len(noDef) > 0:\n",
    "    noDef.to_excel(writer,'Role names') \n",
    "    print(f\"Exported role names report to file: {file_path}\") \n",
    "   \n",
    "\n",
    "writer.close()\n"
   ]
  }
 ],
 "metadata": {
  "kernelspec": {
   "display_name": "Python 3",
   "language": "python",
   "name": "python3"
  },
  "language_info": {
   "codemirror_mode": {
    "name": "ipython",
    "version": 3
   },
   "file_extension": ".py",
   "mimetype": "text/x-python",
   "name": "python",
   "nbconvert_exporter": "python",
   "pygments_lexer": "ipython3",
   "version": "3.12.9"
  }
 },
 "nbformat": 4,
 "nbformat_minor": 2
}
