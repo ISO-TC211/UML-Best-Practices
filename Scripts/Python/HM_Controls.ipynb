{
 "cells": [
  {
   "cell_type": "markdown",
   "metadata": {},
   "source": [
    "# ISO TC/211 Harmonised Model Controls"
   ]
  },
  {
   "cell_type": "markdown",
   "metadata": {},
   "source": [
    "Connect to the EA app and model repository"
   ]
  },
  {
   "cell_type": "code",
   "execution_count": 1,
   "metadata": {},
   "outputs": [
    {
     "name": "stdout",
     "output_type": "stream",
     "text": [
      "2024-04-28 12:49:22   Hi EA - are you there? \n",
      "2024-04-28 12:49:22   I am here\n",
      "2024-04-28 12:49:22   Hi EA - Please open this repository: C:\\Data\\GitHub\\ISO TC211\\HMMG\\EditorialVersion\\ISOTC211_HM EditorialVersion.qea\n",
      "2024-04-28 12:49:25   OK! Repository C:\\Data\\GitHub\\ISO TC211\\HMMG\\EditorialVersion\\ISOTC211_HM EditorialVersion.qea is ready!\n",
      "2024-04-28 12:49:25   Model \"Conceptual Models\" found with PackageGUID {7B6B28E9-C583-4363-9E9C-F37A37AE06C9}\n",
      "2024-04-28 12:49:25   Number of main packages: 5\n"
     ]
    }
   ],
   "source": [
    "from Parameters import *\n",
    "from EAConnect import *\n",
    "from HM_Controls import *\n",
    "import sys\n",
    "import pandas as pd\n",
    "\n",
    "# Open EA Repository and find Model\n",
    "eaApp = openEAapp()\n",
    "eaRepo = openEArepo(eaApp,repo_path)\n",
    "try:\n",
    "    omMod = eaRepo.Models.GetByName(modelName)\n",
    "    printTS('Model \"' + modelName + '\" found with PackageGUID ' + omMod.PackageGUID )\n",
    "except Exception as e:\n",
    "    printTS('Model  \"' + modelName + '\" not found!')\n",
    "    closeEA(eaRepo)\n",
    "    sys.exit()\n",
    "printTS('Number of main packages: ' + str(omMod.Packages.Count))\n",
    "timestamp = datetime.now().strftime(\"%Y-%m-%d %H:%M:%S\")"
   ]
  },
  {
   "cell_type": "markdown",
   "metadata": {},
   "source": [
    "## Select a package in EA before continuing"
   ]
  },
  {
   "cell_type": "code",
   "execution_count": 12,
   "metadata": {},
   "outputs": [
    {
     "name": "stdout",
     "output_type": "stream",
     "text": [
      "2024-04-28 12:56:08   Selected package name: ISO/AWI 19178-1 Edition 1\n"
     ]
    }
   ],
   "source": [
    "thePackage = eaRepo.GetTreeSelectedPackage()\n",
    "printTS('Selected package name: ' + thePackage.Name)"
   ]
  },
  {
   "cell_type": "markdown",
   "metadata": {},
   "source": [
    "**Package tags and alias**\n",
    "\n",
    "Add or update package tags and alias"
   ]
  },
  {
   "cell_type": "code",
   "execution_count": 3,
   "metadata": {},
   "outputs": [
    {
     "name": "stdout",
     "output_type": "stream",
     "text": [
      "name: Training Data Markup Language for Artificial Intelligence - Part 1: Conceptual Model Standard\n",
      "number: 19178-1\n",
      "edition: 1\n",
      "publicationDate: \n",
      "yearVersion: 2024\n"
     ]
    },
    {
     "data": {
      "text/plain": [
       "True"
      ]
     },
     "execution_count": 3,
     "metadata": {},
     "output_type": "execute_result"
    }
   ],
   "source": [
    "lstMd = {}\n",
    "#lstMd['name'] = 'Training Data Markup Language for Artificial Intelligence'\n",
    "lstMd['name'] = 'Training Data Markup Language for Artificial Intelligence - Part 1: Conceptual Model Standard'\n",
    "lstMd['number'] = '19178-1'\n",
    "lstMd['edition'] = '1'\n",
    "lstMd['publicationDate'] = ''\n",
    "lstMd['yearVersion']= '2024'\n",
    "\n",
    "eaEl = thePackage.Element\n",
    "\n",
    "#Update existing tags and add missing tags\n",
    "for key, value in lstMd.items():\n",
    "    print(f\"{key}: {value}\")\n",
    "    try:\n",
    "        eaTag = eaEl.TaggedValues.GetByName(key)\n",
    "        if not eaTag is None:\n",
    "            eaTag.Value = value\n",
    "            eaTag.Update()\n",
    "        else:\n",
    "            print('New tag!')\n",
    "            eaTag = eaEl.TaggedValues.AddNew(key,value)\n",
    "            eaTag.Update()    \n",
    "    except:\n",
    "        print('Something went wrong!')\n",
    "eaEl.TaggedValues.Refresh()\n",
    "\n",
    "#Set alias\n",
    "eaEl.Alias = lstMd['name']\n",
    "eaEl.Update()\n",
    "\n",
    "#TODO:Update status?\n",
    "\n"
   ]
  },
  {
   "cell_type": "markdown",
   "metadata": {},
   "source": [
    "**Duplicates:**\n",
    "\n",
    "Check that there are no duplicate element names"
   ]
  },
  {
   "cell_type": "code",
   "execution_count": 4,
   "metadata": {},
   "outputs": [
    {
     "name": "stdout",
     "output_type": "stream",
     "text": [
      "2024-04-28 12:50:11   Number of errors: 0\n"
     ]
    }
   ],
   "source": [
    "df = duplicateElements(thePackage)\n",
    "non_unique = df[df.duplicated(subset=['ElementName'], keep=False)]\n",
    "errCount = len(non_unique)\n",
    "printTS('Number of errors: ' + str(errCount))\n",
    "\n",
    "if errCount > 0:\n",
    "    print('')\n",
    "    print('Duplicate elements: ')\n",
    "    for index, row in non_unique.iterrows():\n",
    "        combined_string = f\"{row['ElementName']}\"\n",
    "        print(combined_string)"
   ]
  },
  {
   "cell_type": "markdown",
   "metadata": {},
   "source": [
    "**Data type references:**\n",
    "\n",
    "Check that all data types are references to an element.\n",
    "Missing references to primitive data types are fixed in the script.\n",
    "\n",
    "The results are stored in a data frame for further use."
   ]
  },
  {
   "cell_type": "code",
   "execution_count": 5,
   "metadata": {},
   "outputs": [
    {
     "name": "stdout",
     "output_type": "stream",
     "text": [
      "2024-04-28 12:50:19   \n",
      "2024-04-28 12:50:19   Number of errors: 0\n",
      "\n",
      "Attributes without reference:\n"
     ]
    }
   ],
   "source": [
    "#df = pd.DataFrame(columns=['FullPath','Package','Element','Property','DependentPackage','DependentElement','GUID'])\n",
    "df = listClassifiers(eaRepo,thePackage)\n",
    "noRef = df[df['GUID'].isna()]\n",
    "errCount = len(noRef)\n",
    "printTS('')\n",
    "printTS('Number of errors: ' + str(errCount))\n",
    "\n",
    "print('')\n",
    "print('Attributes without reference:')\n",
    "for index, row in noRef.iterrows():\n",
    "    combined_string = f\"{row['Package']}.{row['Element']}.{row['Property']} (Data type:{row['DependentElement']})\"\n",
    "    print(combined_string)\n",
    "\n",
    "\n"
   ]
  },
  {
   "cell_type": "markdown",
   "metadata": {},
   "source": [
    "**Dependencies:**\n",
    "\n",
    "Check which packages data types and relations are connected to."
   ]
  },
  {
   "cell_type": "code",
   "execution_count": 6,
   "metadata": {},
   "outputs": [
    {
     "name": "stdout",
     "output_type": "stream",
     "text": [
      "DependentPackage\n",
      "ISO TC211.ISO 19101 Reference model.ISO 19101-1 Edition 1.reference model                                    1\n",
      "ISO TC211.ISO 19103 Conceptual schema language.ISO 19103 Edition 1.Primitive types.Date and Time             5\n",
      "ISO TC211.ISO 19103 Conceptual schema language.ISO 19103 Edition 1.Primitive types.Numerics                  5\n",
      "ISO TC211.ISO 19103 Conceptual schema language.ISO 19103 Edition 1.Primitive types.Text                     31\n",
      "ISO TC211.ISO 19103 Conceptual schema language.ISO 19103 Edition 1.Primitive types.Truth                     1\n",
      "ISO TC211.ISO 19103 Conceptual schema language.ISO 19103 Edition 1.Web environment                           2\n",
      "ISO TC211.ISO 19115 Metadata.ISO 19115-1 Edition 1 (Complete).Citation and responsible party information     2\n",
      "ISO TC211.ISO 19115 Metadata.ISO 19115-1 Edition 1 (Complete).Common classes                                 2\n",
      "ISO TC211.ISO 19115 Metadata.ISO 19115-1 Edition 1 (Complete).Content information                            1\n",
      "ISO TC211.ISO 19115 Metadata.ISO 19115-1 Edition 1 (Complete).Extent information                             2\n",
      "ISO TC211.ISO 19156 Observations and measurements.ISO 19156 Edition 2.Abstract Observation core              3\n",
      "ISO TC211.ISO 19157 Data quality.ISO 19157-1 Edition 1.Data quality                                          4\n",
      "ISO TC211.ISO 19157 Data quality.ISO 19157-1 Edition 1.Data quality.Data quality evaluation                  1\n",
      "ISO TC211.ISO 19157 Data quality.ISO 19157-1 Edition 1.Data quality.Data quality result                      1\n",
      "ISO TC211.ISO 19178 Training Data Markup Language for Artificial Intelligence.ISO 19178-1 Edition 1         35\n",
      "dtype: int64\n"
     ]
    }
   ],
   "source": [
    "dfCounts = df.groupby(['DependentPackage']).size()\n",
    "print(dfCounts)"
   ]
  },
  {
   "cell_type": "markdown",
   "metadata": {},
   "source": [
    "**Dependencies:**\n",
    "\n",
    "List elements from a specific package "
   ]
  },
  {
   "cell_type": "code",
   "execution_count": null,
   "metadata": {},
   "outputs": [],
   "source": [
    "strFilter = 'ISO TC211.'\n",
    "\n",
    "df_cleaned = df.dropna(subset=['DependentPackage'])\n",
    "filtered_df = df_cleaned[df_cleaned['DependentPackage'].str.startswith(strFilter)]\n",
    "\n",
    "if len(filtered_df) > 0:\n",
    "    print('Refered elements from package \"' + strFilter + '*\"')\n",
    "    for index, row in filtered_df.iterrows():\n",
    "        print(f\"{row['Element']}.{row['Property']} (Data type:{row['DependentPackage']}.{row['DependentElement']})\")\n",
    "else:\n",
    "    print('No elements found!')    "
   ]
  },
  {
   "cell_type": "markdown",
   "metadata": {},
   "source": [
    "**Definitions:**\n",
    "\n",
    "Check that all classes, attributes and navigable associations have definitions"
   ]
  },
  {
   "cell_type": "code",
   "execution_count": 7,
   "metadata": {},
   "outputs": [
    {
     "name": "stdout",
     "output_type": "stream",
     "text": [
      "2024-04-28 12:51:02   \n",
      "2024-04-28 12:51:02   Number of errors: 0\n",
      "\n"
     ]
    }
   ],
   "source": [
    "#defDf = pd.DataFrame(columns=['Type','PackageName','ElementName','PropertyName','Supplier'])\n",
    "defDf = listMissingDefinitions(eaRepo,thePackage)\n",
    "\n",
    "errCount = len(defDf)\n",
    "printTS('')\n",
    "printTS('Number of errors: ' + str(errCount))\n",
    "print('')\n",
    "\n",
    "\n",
    "noDef = defDf[defDf['PropertyName'].isna() & defDf['Supplier'].isna()]\n",
    "if len(noDef) > 0:\n",
    "    print('')\n",
    "    print('Elements without definitions (' + str(len(noDef)) + '):')\n",
    "    for index, row in noDef.iterrows():\n",
    "        combined_string = f\"{row['PackageName']}.{row['ElementName']}\"\n",
    "        print(combined_string)\n",
    "\n",
    "noDef = defDf[defDf['Type']=='Attribute']\n",
    "if len(noDef) > 0:\n",
    "    print('')\n",
    "    print('Attributes without definitions (' + str(len(noDef)) + '):')\n",
    "    for index, row in noDef.iterrows():\n",
    "        combined_string = f\"{row['PackageName']}.{row['ElementName']}.{row['PropertyName']}\"\n",
    "        print(combined_string)\n",
    "\n",
    "noDef = defDf[defDf['Type']=='Code value']\n",
    "if len(noDef) > 0:\n",
    "    print('')\n",
    "    print('Code values without definitions (' + str(len(noDef)) + '):')\n",
    "    for index, row in noDef.iterrows():\n",
    "        combined_string = f\"{row['PackageName']}.{row['ElementName']}.{row['PropertyName']}\"\n",
    "        print(combined_string)\n",
    "\n",
    "noDef = defDf[defDf['Type']=='Role name']\n",
    "if len(noDef) > 0:\n",
    "    print('')\n",
    "    print('Navigable association ends without role name (' + str(len(noDef)) + '):')\n",
    "    for index, row in noDef.iterrows():\n",
    "        combined_string = f\"{row['PackageName']}.{row['ElementName']} towards {row['Supplier']}\"\n",
    "        print(combined_string)\n",
    "\n",
    "noDef = defDf[defDf['Type']=='Role']\n",
    "if len(noDef) > 0:\n",
    "    print('')\n",
    "    print('Navigable association ends without definition (' + str(len(noDef)) + '):')\n",
    "    for index, row in noDef.iterrows():\n",
    "        if row['PropertyName'] != None:\n",
    "            combined_string = f\"{row['PackageName']}.{row['ElementName']}.{row['PropertyName']} towards {row['Supplier']}\"\n",
    "        else:\n",
    "            combined_string = f\"{row['PackageName']}.{row['ElementName']} towards {row['Supplier']}\"\n",
    "        print(combined_string)\n"
   ]
  },
  {
   "cell_type": "markdown",
   "metadata": {},
   "source": [
    "**Diagram representation:**\n",
    "\n",
    "Check that all elements are shown in at least one diagram"
   ]
  },
  {
   "cell_type": "code",
   "execution_count": 8,
   "metadata": {},
   "outputs": [
    {
     "name": "stdout",
     "output_type": "stream",
     "text": [
      "2024-04-28 12:51:14   Diagram: AI_DataQuality (5 objects)\n",
      "2024-04-28 12:51:14   Diagram: AI_Label (5 objects)\n",
      "2024-04-28 12:51:14   Diagram: AI_Labeling (5 objects)\n",
      "2024-04-28 12:51:14   Diagram: AI_Task (3 objects)\n",
      "2024-04-28 12:51:14   Diagram: AI_TDChangeset (1 objects)\n",
      "2024-04-28 12:51:14   Diagram: AI_TrainingData (6 objects)\n",
      "2024-04-28 12:51:14   Diagram: AI_TrainingDataset (9 objects)\n",
      "2024-04-28 12:51:14   Diagram: AI_TrainingTypeCode (1 objects)\n",
      "2024-04-28 12:51:14   Diagram: ISO 19178-1 Edition 1 (4 objects)\n",
      "2024-04-28 12:51:14   Diagram: Overview of the UML model (19 objects)\n",
      "2024-04-28 12:51:15   \n",
      "2024-04-28 12:51:15   Number of errors: 0\n"
     ]
    }
   ],
   "source": [
    "dfE = elementsInDiagrams(thePackage)\n",
    "errCount = len(dfE)\n",
    "printTS('')\n",
    "printTS('Number of errors: ' + str(errCount))\n",
    "\n",
    "if errCount > 0:\n",
    "    print('')\n",
    "    print('Elements that are not in any diagram:')\n",
    "    for index, row in dfE.iterrows():\n",
    "        combined_string = f\"{row['PackageName']}.{row['ElementName']}\"\n",
    "        print(combined_string)    \n"
   ]
  },
  {
   "cell_type": "markdown",
   "metadata": {},
   "source": [
    "**Diagram layout:**\n",
    "\n",
    "Setting diagram fonts to Cambria and hiding \"isSubstitutable\" labels"
   ]
  },
  {
   "cell_type": "code",
   "execution_count": 9,
   "metadata": {},
   "outputs": [
    {
     "name": "stdout",
     "output_type": "stream",
     "text": [
      "2024-04-28 12:51:26   Diagram count: 10\n",
      "2024-04-28 12:51:26   Diagram: AI_DataQuality (5 objects)\n",
      "2024-04-28 12:51:26   Diagram: AI_Label (5 objects)\n",
      "2024-04-28 12:51:26   Diagram: AI_Labeling (5 objects)\n",
      "2024-04-28 12:51:26   Diagram: AI_Task (3 objects)\n",
      "2024-04-28 12:51:26   Diagram: AI_TDChangeset (1 objects)\n",
      "2024-04-28 12:51:26   Diagram: AI_TrainingData (6 objects)\n",
      "2024-04-28 12:51:26   Diagram: AI_TrainingDataset (9 objects)\n",
      "2024-04-28 12:51:26   Diagram: AI_TrainingTypeCode (1 objects)\n",
      "2024-04-28 12:51:26   Diagram: ISO 19178-1 Edition 1 (4 objects)\n",
      "2024-04-28 12:51:26   Diagram: Overview of the UML model (19 objects)\n"
     ]
    }
   ],
   "source": [
    "recDiagramCleaning(thePackage)"
   ]
  },
  {
   "cell_type": "markdown",
   "metadata": {},
   "source": [
    "Export error report"
   ]
  },
  {
   "cell_type": "code",
   "execution_count": 10,
   "metadata": {},
   "outputs": [
    {
     "name": "stdout",
     "output_type": "stream",
     "text": [
      "\n",
      "Exported datatype report to file: C:\\Data\\GitHub\\ISO TC211\\HMMG\\EditorialVersion\\Controls.xlsx\n"
     ]
    },
    {
     "name": "stderr",
     "output_type": "stream",
     "text": [
      "C:\\Users\\JETKNU\\AppData\\Local\\Temp\\ipykernel_11344\\2302036842.py:5: FutureWarning: Starting with pandas version 3.0 all arguments of to_excel except for the argument 'excel_writer' will be keyword-only.\n",
      "  df.to_excel(writer,'Datatypes')\n"
     ]
    }
   ],
   "source": [
    "print('')\n",
    "file_path = mainFolder + '\\\\Controls.xlsx'\n",
    "# Export to Excel \n",
    "writer = pd.ExcelWriter(file_path)\n",
    "df.to_excel(writer,'Datatypes') \n",
    "print(f\"Exported datatype report to file: {file_path}\") \n",
    "\n",
    "noDef = defDf[defDf['Type']!='Role name']\n",
    "if len(noDef) > 0:\n",
    "    noDef.to_excel(writer,'Missing definitions') \n",
    "    print(f\"Exported definitions report to file: {file_path}\") \n",
    "\n",
    "noDef = defDf[defDf['Type']=='Role name']\n",
    "if len(noDef) > 0:\n",
    "    noDef.to_excel(writer,'Missing role names') \n",
    "    print(f\"Exported role names report to file: {file_path}\") \n",
    "writer.close()\n"
   ]
  },
  {
   "cell_type": "markdown",
   "metadata": {},
   "source": [
    "**Export to XMI:**\n",
    "\n",
    "Export the package to XMI for upload to GitHub"
   ]
  },
  {
   "cell_type": "code",
   "execution_count": 13,
   "metadata": {},
   "outputs": [
    {
     "name": "stdout",
     "output_type": "stream",
     "text": [
      "\n"
     ]
    }
   ],
   "source": [
    "# Replace colons (\":\") with underscores (\"_\") in the filename\n",
    "fName = thePackage.Name.replace(\":\", \"_\")\n",
    "# Replace forward slashes (\"/\") with an empty string\n",
    "fName = fName.replace(\"/\", \"\")\n",
    "# Combine the modified filename with the path and add the \".xml\" extension\n",
    "fName = xmiPath + fName + \".xml\"\n",
    "\n",
    "thePackage.IsControlled = -1\n",
    "thePackage.XMLPath = fName\n",
    "thePackage.BatchSave = 1\n",
    "thePackage.BatchLoad = 1\n",
    "thePackage.Update\n",
    "\n",
    "#XmiExportType = 3\n",
    "pI = eaRepo.GetProjectInterface()\n",
    "result = pI.ExportPackageXMI(thePackage.PackageGUID, 3, 1, -1, 1, 0, fName)\n",
    "print(result)"
   ]
  }
 ],
 "metadata": {
  "kernelspec": {
   "display_name": "Python 3",
   "language": "python",
   "name": "python3"
  },
  "language_info": {
   "codemirror_mode": {
    "name": "ipython",
    "version": 3
   },
   "file_extension": ".py",
   "mimetype": "text/x-python",
   "name": "python",
   "nbconvert_exporter": "python",
   "pygments_lexer": "ipython3",
   "version": "3.12.3"
  }
 },
 "nbformat": 4,
 "nbformat_minor": 2
}
