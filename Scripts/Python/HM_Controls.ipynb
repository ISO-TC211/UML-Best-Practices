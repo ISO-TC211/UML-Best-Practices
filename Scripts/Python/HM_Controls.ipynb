{
 "cells": [
  {
   "cell_type": "markdown",
   "metadata": {},
   "source": [
    "# ISO TC/211 Harmonised Model Controls"
   ]
  },
  {
   "cell_type": "markdown",
   "metadata": {},
   "source": [
    "Connect to the EA app and model repository"
   ]
  },
  {
   "cell_type": "code",
   "execution_count": 2,
   "metadata": {},
   "outputs": [
    {
     "name": "stdout",
     "output_type": "stream",
     "text": [
      "2024-04-15 12:00:23   Hi EA - are you there? \n",
      "2024-04-15 12:00:23   I am here\n",
      "2024-04-15 12:00:23   Hi EA - Please open this repository: C:\\Data\\GitHub\\ISO TC211\\HMMG\\EditorialVersion\\ISOTC211_HM EditorialVersion.qea\n",
      "2024-04-15 12:00:25   OK! Repository C:\\Data\\GitHub\\ISO TC211\\HMMG\\EditorialVersion\\ISOTC211_HM EditorialVersion.qea is ready!\n",
      "2024-04-15 12:00:25   Model \"Conceptual Models\" found with PackageGUID {7B6B28E9-C583-4363-9E9C-F37A37AE06C9}\n",
      "2024-04-15 12:00:26   Number of main packages: 5\n"
     ]
    }
   ],
   "source": [
    "from Parameters import *\n",
    "from EAConnect import *\n",
    "from HM_Controls import *\n",
    "import sys\n",
    "import pandas as pd\n",
    "\n",
    "# Open EA Repository and find Model\n",
    "eaApp = openEAapp()\n",
    "eaRepo = openEArepo(eaApp,repo_path)\n",
    "try:\n",
    "    omMod = eaRepo.Models.GetByName(modelName)\n",
    "    printTS('Model \"' + modelName + '\" found with PackageGUID ' + omMod.PackageGUID )\n",
    "except Exception as e:\n",
    "    printTS('Model  \"' + modelName + '\" not found!')\n",
    "    closeEA(eaRepo)\n",
    "    sys.exit()\n",
    "printTS('Number of main packages: ' + str(omMod.Packages.Count))\n",
    "timestamp = datetime.now().strftime(\"%Y-%m-%d %H:%M:%S\")"
   ]
  },
  {
   "cell_type": "markdown",
   "metadata": {},
   "source": [
    "## Select a package in EA before continuing"
   ]
  },
  {
   "cell_type": "code",
   "execution_count": 3,
   "metadata": {},
   "outputs": [
    {
     "name": "stdout",
     "output_type": "stream",
     "text": [
      "2024-04-15 12:00:38   Selected package name: ISO/AWI TS 19124-2 Edition 1\n"
     ]
    }
   ],
   "source": [
    "thePackage = eaRepo.GetTreeSelectedPackage()\n",
    "printTS('Selected package name: ' + thePackage.Name)"
   ]
  },
  {
   "cell_type": "markdown",
   "metadata": {},
   "source": [
    "**Duplicates:**\n",
    "\n",
    "Check that there are no duplicate element names"
   ]
  },
  {
   "cell_type": "code",
   "execution_count": 4,
   "metadata": {},
   "outputs": [
    {
     "name": "stdout",
     "output_type": "stream",
     "text": [
      "2024-04-15 12:00:49   Number of errors: 0\n"
     ]
    }
   ],
   "source": [
    "df = duplicateElements(thePackage)\n",
    "non_unique = df[df.duplicated(subset=['ElementName'], keep=False)]\n",
    "errCount = len(non_unique)\n",
    "printTS('Number of errors: ' + str(errCount))\n",
    "\n",
    "if errCount > 0:\n",
    "    print('')\n",
    "    print('Duplicate elements: ')\n",
    "    for index, row in non_unique.iterrows():\n",
    "        combined_string = f\"{row['ElementName']}\"\n",
    "        print(combined_string)"
   ]
  },
  {
   "cell_type": "markdown",
   "metadata": {},
   "source": [
    "**Data type references:**\n",
    "\n",
    "Check that all data types are references to an element.\n",
    "Missing references to primitive data types are fixed in the script.\n",
    "\n",
    "The results are stored in a data frame for further use."
   ]
  },
  {
   "cell_type": "code",
   "execution_count": 5,
   "metadata": {},
   "outputs": [
    {
     "name": "stdout",
     "output_type": "stream",
     "text": [
      "2024-04-15 12:00:58   ERROR|Missing data type connection for attribute :CA_PlatformInfo.passDirection (Data type: CA_OrbitPassDirection)\n",
      "2024-04-15 12:00:58   ERROR|Missing data type connection for attribute :CA_SARDataAcquiPara.imagingMode (Data type: CA_SARImagingMode)\n",
      "2024-04-15 12:00:58   \n",
      "2024-04-15 12:00:58   Number of errors: 2\n",
      "\n",
      "Attributes without reference:\n",
      "ISO/AWI TS 19124-2 Edition 1.CA_PlatformInfo.passDirection (Data type:CA_OrbitPassDirection)\n",
      "ISO/AWI TS 19124-2 Edition 1.CA_SARDataAcquiPara.imagingMode (Data type:CA_SARImagingMode)\n"
     ]
    }
   ],
   "source": [
    "#df = pd.DataFrame(columns=['FullPath','Package','Element','Property','DependentPackage','DependentElement','GUID'])\n",
    "df = listClassifiers(eaRepo,thePackage)\n",
    "noRef = df[df['GUID'].isna()]\n",
    "errCount = len(noRef)\n",
    "printTS('')\n",
    "printTS('Number of errors: ' + str(errCount))\n",
    "\n",
    "print('')\n",
    "print('Attributes without reference:')\n",
    "for index, row in noRef.iterrows():\n",
    "    combined_string = f\"{row['Package']}.{row['Element']}.{row['Property']} (Data type:{row['DependentElement']})\"\n",
    "    print(combined_string)\n",
    " "
   ]
  },
  {
   "cell_type": "markdown",
   "metadata": {},
   "source": [
    "**Dependencies:**\n",
    "\n",
    "Check which packages data types and relations are connected to."
   ]
  },
  {
   "cell_type": "code",
   "execution_count": 6,
   "metadata": {},
   "outputs": [
    {
     "name": "stdout",
     "output_type": "stream",
     "text": [
      "DependentPackage\n",
      "ISO TC211.ISO 19103 Conceptual schema language.ISO 19103 Edition 1.Measure types                                            3\n",
      "ISO TC211.ISO 19103 Conceptual schema language.ISO 19103 Edition 1.Primitive types.Date and Time                            1\n",
      "ISO TC211.ISO 19103 Conceptual schema language.ISO 19103 Edition 1.Primitive types.Numerics                                24\n",
      "ISO TC211.ISO 19103 Conceptual schema language.ISO 19103 Edition 1.Primitive types.Text                                    42\n",
      "ISO TC211.ISO 19103 Conceptual schema language.ISO 19103 Edition 1.Primitive types.Truth                                    1\n",
      "ISO TC211.ISO 19124 Calibration and validation of remote sensing data and derived products.ISO TS 19124-1 Edition 1         3\n",
      "ISO TC211.ISO 19124 Calibration and validation of remote sensing data and derived products.ISO/AWI TS 19124-2 Edition 1    39\n",
      "dtype: int64\n"
     ]
    }
   ],
   "source": [
    "dfCounts = df.groupby(['DependentPackage']).size()\n",
    "print(dfCounts)"
   ]
  },
  {
   "cell_type": "markdown",
   "metadata": {},
   "source": [
    "**Dependencies:**\n",
    "\n",
    "List elements from a specific package "
   ]
  },
  {
   "cell_type": "code",
   "execution_count": 11,
   "metadata": {},
   "outputs": [
    {
     "name": "stdout",
     "output_type": "stream",
     "text": [
      "Refered elements from package \"ISO TC211.ISO 19124 Calibration and validation of remote sensing data and derived products.ISO TS 19124-1*\"\n",
      "CA_SARDataCalVal\n",
      "CA_SARDataQualEvalIndex\n",
      "CA_SARMultiDimensionalProduct\n"
     ]
    }
   ],
   "source": [
    "strFilter = 'ISO TC211.ISO 19124 Calibration and validation of remote sensing data and derived products.ISO TS 19124-1'\n",
    "\n",
    "df_cleaned = df.dropna(subset=['DependentPackage'])\n",
    "filtered_df = df_cleaned[df_cleaned['DependentPackage'].str.startswith(strFilter)]\n",
    "\n",
    "if len(filtered_df) > 0:\n",
    "    print('Refered elements from package \"' + strFilter + '*\"')\n",
    "    for index, row in filtered_df.iterrows():\n",
    "        print(f\"{row['Element']}\")\n",
    "else:\n",
    "    print('No elements found!')    "
   ]
  },
  {
   "cell_type": "markdown",
   "metadata": {},
   "source": [
    "**Definitions:**\n",
    "\n",
    "Check that all classes, attributes and navigable associations have definitions"
   ]
  },
  {
   "cell_type": "code",
   "execution_count": 12,
   "metadata": {},
   "outputs": [
    {
     "name": "stdout",
     "output_type": "stream",
     "text": [
      "2024-04-15 12:03:30   ERROR|Missing role name for Navigable association in package ISO/AWI TS 19124-2 Edition 1: CA_SARDataCal towards CA_SARDataGeoCal\n",
      "2024-04-15 12:03:30   ERROR|Missing role definition for Navigable association in package ISO/AWI TS 19124-2 Edition 1: CA_SARDataCal towards CA_SARDataGeoCal\n",
      "2024-04-15 12:03:30   ERROR|Missing role name for Navigable association in package ISO/AWI TS 19124-2 Edition 1: CA_SARDataCal towards CA_SARDataRadioCal\n",
      "2024-04-15 12:03:30   ERROR|Missing role definition for Navigable association in package ISO/AWI TS 19124-2 Edition 1: CA_SARDataCal towards CA_SARDataRadioCal\n",
      "2024-04-15 12:03:30   ERROR|Missing role name for Navigable association in package ISO/AWI TS 19124-2 Edition 1: CA_SARDataCal towards CA_SARDataChaParaCal\n",
      "2024-04-15 12:03:30   ERROR|Missing role definition for Navigable association in package ISO/AWI TS 19124-2 Edition 1: CA_SARDataCal towards CA_SARDataChaParaCal\n",
      "2024-04-15 12:03:30   ERROR|Missing role name for Navigable association in package ISO/AWI TS 19124-2 Edition 1: CA_SARDataCalVal towards CA_SARDataCal\n",
      "2024-04-15 12:03:30   ERROR|Missing role definition for Navigable association in package ISO/AWI TS 19124-2 Edition 1: CA_SARDataCalVal towards CA_SARDataCal\n",
      "2024-04-15 12:03:30   ERROR|Missing role name for Navigable association in package ISO/AWI TS 19124-2 Edition 1: CA_SARDataCalVal towards CA_SARDataVal\n",
      "2024-04-15 12:03:30   ERROR|Missing role definition for Navigable association in package ISO/AWI TS 19124-2 Edition 1: CA_SARDataCalVal towards CA_SARDataVal\n",
      "2024-04-15 12:03:30   \n",
      "2024-04-15 12:03:30   Number of errors: 10\n",
      "\n",
      "Navigable association ends without role name (5):\n",
      "ISO/AWI TS 19124-2 Edition 1.CA_SARDataCal towards CA_SARDataGeoCal\n",
      "ISO/AWI TS 19124-2 Edition 1.CA_SARDataCal towards CA_SARDataRadioCal\n",
      "ISO/AWI TS 19124-2 Edition 1.CA_SARDataCal towards CA_SARDataChaParaCal\n",
      "ISO/AWI TS 19124-2 Edition 1.CA_SARDataCalVal towards CA_SARDataCal\n",
      "ISO/AWI TS 19124-2 Edition 1.CA_SARDataCalVal towards CA_SARDataVal\n",
      "\n",
      "Navigable association ends without definition (5):\n",
      "ISO/AWI TS 19124-2 Edition 1.CA_SARDataCal towards CA_SARDataGeoCal\n",
      "ISO/AWI TS 19124-2 Edition 1.CA_SARDataCal towards CA_SARDataRadioCal\n",
      "ISO/AWI TS 19124-2 Edition 1.CA_SARDataCal towards CA_SARDataChaParaCal\n",
      "ISO/AWI TS 19124-2 Edition 1.CA_SARDataCalVal towards CA_SARDataCal\n",
      "ISO/AWI TS 19124-2 Edition 1.CA_SARDataCalVal towards CA_SARDataVal\n"
     ]
    }
   ],
   "source": [
    "#defDf = pd.DataFrame(columns=['Type','PackageName','ElementName','PropertyName','Supplier'])\n",
    "defDf = listMissingDefinitions(eaRepo,thePackage)\n",
    "\n",
    "errCount = len(defDf)\n",
    "printTS('')\n",
    "printTS('Number of errors: ' + str(errCount))\n",
    "\n",
    "noDef = defDf[defDf['PropertyName'].isna() & defDf['Supplier'].isna()]\n",
    "if len(noDef) > 0:\n",
    "    print('')\n",
    "    print('Elements without definitions (' + str(len(noDef)) + '):')\n",
    "    for index, row in noDef.iterrows():\n",
    "        combined_string = f\"{row['PackageName']}.{row['ElementName']}\"\n",
    "        print(combined_string)\n",
    "\n",
    "noDef = defDf[defDf['Type']=='Attribute']\n",
    "if len(noDef) > 0:\n",
    "    print('')\n",
    "    print('Attributes without definitions (' + str(len(noDef)) + '):')\n",
    "    for index, row in noDef.iterrows():\n",
    "        combined_string = f\"{row['PackageName']}.{row['ElementName']}.{row['PropertyName']}\"\n",
    "        print(combined_string)\n",
    "\n",
    "noDef = defDf[defDf['Type']=='Role name']\n",
    "if len(noDef) > 0:\n",
    "    print('')\n",
    "    print('Navigable association ends without role name (' + str(len(noDef)) + '):')\n",
    "    for index, row in noDef.iterrows():\n",
    "        combined_string = f\"{row['PackageName']}.{row['ElementName']} towards {row['Supplier']}\"\n",
    "        print(combined_string)\n",
    "\n",
    "noDef = defDf[defDf['Type']=='Role']\n",
    "if len(noDef) > 0:\n",
    "    print('')\n",
    "    print('Navigable association ends without definition (' + str(len(noDef)) + '):')\n",
    "    for index, row in noDef.iterrows():\n",
    "        if row['PropertyName'] != None:\n",
    "            combined_string = f\"{row['PackageName']}.{row['ElementName']}.{row['PropertyName']} towards {row['Supplier']}\"\n",
    "        else:\n",
    "            combined_string = f\"{row['PackageName']}.{row['ElementName']} towards {row['Supplier']}\"\n",
    "        print(combined_string)\n"
   ]
  },
  {
   "cell_type": "markdown",
   "metadata": {},
   "source": [
    "**Diagram representation:**\n",
    "\n",
    "Check that all elements are shown in at least one diagram"
   ]
  },
  {
   "cell_type": "code",
   "execution_count": 13,
   "metadata": {},
   "outputs": [
    {
     "name": "stdout",
     "output_type": "stream",
     "text": [
      "2024-04-15 12:03:37   Diagram: 19124_2_01 (12 objects)\n",
      "2024-04-15 12:03:37   Diagram: 19124_2_02 (9 objects)\n",
      "2024-04-15 12:03:37   Diagram: 19124_2_03 (6 objects)\n",
      "2024-04-15 12:03:37   Diagram: 19124_2_07 (2 objects)\n",
      "2024-04-15 12:03:37   Diagram: 19124_2_04 (14 objects)\n",
      "2024-04-15 12:03:37   Diagram: 19124_2_05 (5 objects)\n",
      "2024-04-15 12:03:37   Diagram: 19124_2_06 (3 objects)\n",
      "2024-04-15 12:03:37   \n",
      "2024-04-15 12:03:37   Number of errors: 0\n"
     ]
    }
   ],
   "source": [
    "dfE = elementsInDiagrams(thePackage)\n",
    "errCount = len(dfE)\n",
    "printTS('')\n",
    "printTS('Number of errors: ' + str(errCount))\n",
    "\n",
    "if errCount > 0:\n",
    "    print('')\n",
    "    print('Elements that are not in any diagram:')\n",
    "    for index, row in dfE.iterrows():\n",
    "        combined_string = f\"{row['PackageName']}.{row['ElementName']}\"\n",
    "        print(combined_string)    \n"
   ]
  },
  {
   "cell_type": "markdown",
   "metadata": {},
   "source": [
    "**Diagram layout:**\n",
    "\n",
    "Setting diagram fonts to Cambria and hiding \"isSubstitutable\" labels"
   ]
  },
  {
   "cell_type": "code",
   "execution_count": 14,
   "metadata": {},
   "outputs": [
    {
     "name": "stdout",
     "output_type": "stream",
     "text": [
      "2024-04-15 12:03:42   Diagram count: 7\n",
      "2024-04-15 12:03:42   Diagram: 19124_2_01 (12 objects)\n",
      "2024-04-15 12:03:42   Diagram: 19124_2_02 (9 objects)\n",
      "2024-04-15 12:03:42   Diagram: 19124_2_03 (6 objects)\n",
      "2024-04-15 12:03:42   Diagram: 19124_2_07 (2 objects)\n",
      "2024-04-15 12:03:42   Diagram: 19124_2_04 (14 objects)\n",
      "2024-04-15 12:03:42   Diagram: 19124_2_05 (5 objects)\n",
      "2024-04-15 12:03:42   Diagram: 19124_2_06 (3 objects)\n"
     ]
    }
   ],
   "source": [
    "recDiagramCleaning(thePackage)"
   ]
  }
 ],
 "metadata": {
  "kernelspec": {
   "display_name": "Python 3",
   "language": "python",
   "name": "python3"
  },
  "language_info": {
   "codemirror_mode": {
    "name": "ipython",
    "version": 3
   },
   "file_extension": ".py",
   "mimetype": "text/x-python",
   "name": "python",
   "nbconvert_exporter": "python",
   "pygments_lexer": "ipython3",
   "version": "3.12.3"
  }
 },
 "nbformat": 4,
 "nbformat_minor": 2
}
