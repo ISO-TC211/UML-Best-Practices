{
 "cells": [
  {
   "cell_type": "markdown",
   "metadata": {},
   "source": [
    "# ISO TC/211 Harmonised Model Controls"
   ]
  },
  {
   "cell_type": "markdown",
   "metadata": {},
   "source": [
    "Connect to the EA app and model repository"
   ]
  },
  {
   "cell_type": "code",
   "execution_count": 1,
   "metadata": {},
   "outputs": [],
   "source": [
    "from Parameters import *\n",
    "from EAConnect import *\n",
    "from HM_Controls import *\n",
    "import sys\n",
    "import pandas as pd"
   ]
  },
  {
   "cell_type": "code",
   "execution_count": 2,
   "metadata": {},
   "outputs": [
    {
     "name": "stdout",
     "output_type": "stream",
     "text": [
      "2024-04-14 21:18:41   Hi EA - are you there? \n",
      "2024-04-14 21:18:41   I am here\n",
      "2024-04-14 21:18:41   Hi EA - Please open this repository: C:\\Data\\GitHub\\ISO TC211\\HMMG\\EditorialVersion\\ISOTC211_HM EditorialVersion.qea\n",
      "2024-04-14 21:18:44   OK! Repository C:\\Data\\GitHub\\ISO TC211\\HMMG\\EditorialVersion\\ISOTC211_HM EditorialVersion.qea is ready!\n",
      "2024-04-14 21:18:44   Model \"Conceptual Models\" found with PackageGUID {7B6B28E9-C583-4363-9E9C-F37A37AE06C9}\n",
      "2024-04-14 21:18:44   Number of main packages: 5\n"
     ]
    }
   ],
   "source": [
    "# Open EA Repository and find Model\n",
    "eaApp = openEAapp()\n",
    "eaRepo = openEArepo(eaApp,repo_path)\n",
    "try:\n",
    "    omMod = eaRepo.Models.GetByName(modelName)\n",
    "    printTS('Model \"' + modelName + '\" found with PackageGUID ' + omMod.PackageGUID )\n",
    "except Exception as e:\n",
    "    printTS('Model  \"' + modelName + '\" not found!')\n",
    "    closeEA(eaRepo)\n",
    "    sys.exit()\n",
    "printTS('Number of main packages: ' + str(omMod.Packages.Count))\n",
    "timestamp = datetime.now().strftime(\"%Y-%m-%d %H:%M:%S\")"
   ]
  },
  {
   "cell_type": "markdown",
   "metadata": {},
   "source": [
    "## Select a package in EA before continuing"
   ]
  },
  {
   "cell_type": "code",
   "execution_count": 3,
   "metadata": {},
   "outputs": [
    {
     "name": "stdout",
     "output_type": "stream",
     "text": [
      "2024-04-14 21:18:53   Selected package name: ISO/AWI TS 19124-2 Edition 1\n"
     ]
    }
   ],
   "source": [
    "thePackage = eaRepo.GetTreeSelectedPackage()\n",
    "printTS('Selected package name: ' + thePackage.Name)"
   ]
  },
  {
   "cell_type": "markdown",
   "metadata": {},
   "source": [
    "Setting diagram fonts to Cambria and hiding \"isSubstitutable\" labels"
   ]
  },
  {
   "cell_type": "code",
   "execution_count": null,
   "metadata": {},
   "outputs": [],
   "source": [
    "recDiagramCleaning(thePackage)\n"
   ]
  },
  {
   "cell_type": "markdown",
   "metadata": {},
   "source": [
    "Check that all data types are references to an element.\n",
    "Missing references to primitive data types are fixed in the script.\n",
    "\n",
    "The results are stored in a data frame for further use."
   ]
  },
  {
   "cell_type": "code",
   "execution_count": 5,
   "metadata": {},
   "outputs": [
    {
     "name": "stdout",
     "output_type": "stream",
     "text": [
      "2024-04-14 21:19:29   ERROR|Missing data type connection for attribute :CA_PlatformInfo.passDirection (Data type: CA_OrbitPassDirection)\n",
      "2024-04-14 21:19:29   ERROR|Missing data type connection for attribute :CA_SARDataAcquiPara.imagingMode (Data type: CA_SARImagingMode)\n",
      "2024-04-14 21:19:29   \n",
      "2024-04-14 21:19:29   Number of errors: 2\n",
      "\n",
      "Attributes without reference:\n",
      "ISO/AWI TS 19124-2 Edition 1.CA_PlatformInfo.passDirection (Data type:CA_OrbitPassDirection)\n",
      "ISO/AWI TS 19124-2 Edition 1.CA_SARDataAcquiPara.imagingMode (Data type:CA_SARImagingMode)\n"
     ]
    }
   ],
   "source": [
    "df = pd.DataFrame(columns=['FullPath','Package','Element','Property','DependentPackage','DependentElement','GUID'])\n",
    "df = listClassifiers(eaRepo,thePackage,df)\n",
    "noRef = df[df['GUID'].isna()]\n",
    "errCount = len(noRef)\n",
    "printTS('')\n",
    "printTS('Number of errors: ' + str(errCount))\n",
    "\n",
    "print('')\n",
    "print('Attributes without reference:')\n",
    "for index, row in noRef.iterrows():\n",
    "    combined_string = f\"{row['Package']}.{row['Element']}.{row['Property']} (Data type:{row['DependentElement']})\"\n",
    "    print(combined_string)\n",
    " "
   ]
  },
  {
   "cell_type": "markdown",
   "metadata": {},
   "source": [
    "Check which packages data types and relations are connected to."
   ]
  },
  {
   "cell_type": "code",
   "execution_count": 5,
   "metadata": {},
   "outputs": [
    {
     "name": "stdout",
     "output_type": "stream",
     "text": [
      "DependentPackage\n",
      "ISO TC211.ISO 19103 Conceptual schema language.ISO 19103 Edition 1.Measure types                                            3\n",
      "ISO TC211.ISO 19103 Conceptual schema language.ISO 19103 Edition 1.Primitive types.Date and Time                            1\n",
      "ISO TC211.ISO 19103 Conceptual schema language.ISO 19103 Edition 1.Primitive types.Numerics                                24\n",
      "ISO TC211.ISO 19103 Conceptual schema language.ISO 19103 Edition 1.Primitive types.Text                                    42\n",
      "ISO TC211.ISO 19103 Conceptual schema language.ISO 19103 Edition 1.Primitive types.Truth                                    1\n",
      "ISO TC211.ISO 19124 Calibration and validation of remote sensing data and derived products.ISO TS 19124-1 Edition 1         3\n",
      "ISO TC211.ISO 19124 Calibration and validation of remote sensing data and derived products.ISO/AWI TS 19124-2 Edition 1    39\n",
      "dtype: int64\n"
     ]
    }
   ],
   "source": [
    "dfCounts = df.groupby(['DependentPackage']).size()\n",
    "print(dfCounts)\n"
   ]
  },
  {
   "cell_type": "markdown",
   "metadata": {},
   "source": [
    "Check that all classes, attributes and navigable associations have definitions"
   ]
  },
  {
   "cell_type": "code",
   "execution_count": 13,
   "metadata": {},
   "outputs": [
    {
     "name": "stdout",
     "output_type": "stream",
     "text": [
      "2024-04-14 21:43:53   ERROR|Missing role name for Navigable association in package ISO/AWI TS 19124-2 Edition 1: CA_SARDataCal towards CA_SARDataGeoCal\n",
      "2024-04-14 21:43:53   ERROR|Missing role definition for Navigable association in package ISO/AWI TS 19124-2 Edition 1: CA_SARDataCal towards CA_SARDataGeoCal\n",
      "2024-04-14 21:43:53   ERROR|Missing role name for Navigable association in package ISO/AWI TS 19124-2 Edition 1: CA_SARDataCal towards CA_SARDataRadioCal\n",
      "2024-04-14 21:43:53   ERROR|Missing role definition for Navigable association in package ISO/AWI TS 19124-2 Edition 1: CA_SARDataCal towards CA_SARDataRadioCal\n",
      "2024-04-14 21:43:53   ERROR|Missing role name for Navigable association in package ISO/AWI TS 19124-2 Edition 1: CA_SARDataCal towards CA_SARDataChaParaCal\n",
      "2024-04-14 21:43:53   ERROR|Missing role definition for Navigable association in package ISO/AWI TS 19124-2 Edition 1: CA_SARDataCal towards CA_SARDataChaParaCal\n",
      "2024-04-14 21:43:53   ERROR|Missing role name for Navigable association in package ISO/AWI TS 19124-2 Edition 1: CA_SARDataCalVal towards CA_SARDataCal\n",
      "2024-04-14 21:43:53   ERROR|Missing role definition for Navigable association in package ISO/AWI TS 19124-2 Edition 1: CA_SARDataCalVal towards CA_SARDataCal\n",
      "2024-04-14 21:43:53   ERROR|Missing role name for Navigable association in package ISO/AWI TS 19124-2 Edition 1: CA_SARDataCalVal towards CA_SARDataVal\n",
      "2024-04-14 21:43:53   ERROR|Missing role definition for Navigable association in package ISO/AWI TS 19124-2 Edition 1: CA_SARDataCalVal towards CA_SARDataVal\n",
      "2024-04-14 21:43:54   \n",
      "2024-04-14 21:43:54   Number of errors: 10\n",
      "\n"
     ]
    },
    {
     "ename": "TypeError",
     "evalue": "can only concatenate str (not \"int\") to str",
     "output_type": "error",
     "traceback": [
      "\u001b[1;31m---------------------------------------------------------------------------\u001b[0m",
      "\u001b[1;31mTypeError\u001b[0m                                 Traceback (most recent call last)",
      "Cell \u001b[1;32mIn[13], line 27\u001b[0m\n\u001b[0;32m     25\u001b[0m \u001b[38;5;28;01mif\u001b[39;00m \u001b[38;5;28mlen\u001b[39m(noDef) \u001b[38;5;241m>\u001b[39m \u001b[38;5;241m0\u001b[39m:\n\u001b[0;32m     26\u001b[0m     \u001b[38;5;28mprint\u001b[39m(\u001b[38;5;124m'\u001b[39m\u001b[38;5;124m'\u001b[39m)\n\u001b[1;32m---> 27\u001b[0m     \u001b[38;5;28mprint\u001b[39m(\u001b[38;5;124;43m'\u001b[39;49m\u001b[38;5;124;43mNavigable association ends without role name (\u001b[39;49m\u001b[38;5;124;43m'\u001b[39;49m\u001b[43m \u001b[49m\u001b[38;5;241;43m+\u001b[39;49m\u001b[43m \u001b[49m\u001b[38;5;28;43mlen\u001b[39;49m\u001b[43m(\u001b[49m\u001b[43mnoDef\u001b[49m\u001b[43m)\u001b[49m \u001b[38;5;241m+\u001b[39m \u001b[38;5;124m'\u001b[39m\u001b[38;5;124m):\u001b[39m\u001b[38;5;124m'\u001b[39m)\n\u001b[0;32m     28\u001b[0m     \u001b[38;5;28;01mfor\u001b[39;00m index, row \u001b[38;5;129;01min\u001b[39;00m noDef\u001b[38;5;241m.\u001b[39miterrows():\n\u001b[0;32m     29\u001b[0m         combined_string \u001b[38;5;241m=\u001b[39m \u001b[38;5;124mf\u001b[39m\u001b[38;5;124m\"\u001b[39m\u001b[38;5;132;01m{\u001b[39;00mrow[\u001b[38;5;124m'\u001b[39m\u001b[38;5;124mPackageName\u001b[39m\u001b[38;5;124m'\u001b[39m]\u001b[38;5;132;01m}\u001b[39;00m\u001b[38;5;124m.\u001b[39m\u001b[38;5;132;01m{\u001b[39;00mrow[\u001b[38;5;124m'\u001b[39m\u001b[38;5;124mElementName\u001b[39m\u001b[38;5;124m'\u001b[39m]\u001b[38;5;132;01m}\u001b[39;00m\u001b[38;5;124m towards \u001b[39m\u001b[38;5;132;01m{\u001b[39;00mrow[\u001b[38;5;124m'\u001b[39m\u001b[38;5;124mSupplier\u001b[39m\u001b[38;5;124m'\u001b[39m]\u001b[38;5;132;01m}\u001b[39;00m\u001b[38;5;124m\"\u001b[39m\n",
      "\u001b[1;31mTypeError\u001b[0m: can only concatenate str (not \"int\") to str"
     ]
    }
   ],
   "source": [
    "defDf = pd.DataFrame(columns=['Type','PackageName','ElementName','PropertyName','Supplier'])\n",
    "defDf = listMissingDefinitions(eaRepo,thePackage,defDf)\n",
    "\n",
    "errCount = len(defDf)\n",
    "printTS('')\n",
    "printTS('Number of errors: ' + str(errCount))\n",
    "\n",
    "noDef = defDf[defDf['PropertyName'].isna() & defDf['Supplier'].isna()]\n",
    "if len(noDef) > 0:\n",
    "    print('')\n",
    "    print('Elements without definitions (' + str(len(noDef)) + '):')\n",
    "    for index, row in noDef.iterrows():\n",
    "        combined_string = f\"{row['PackageName']}.{row['ElementName']}\"\n",
    "        print(combined_string)\n",
    "\n",
    "noDef = defDf[defDf['Type']=='Attribute']\n",
    "if len(noDef) > 0:\n",
    "    print('')\n",
    "    print('Attributes without definitions (' + str(len(noDef)) + '):')\n",
    "    for index, row in noDef.iterrows():\n",
    "        combined_string = f\"{row['PackageName']}.{row['ElementName']}.{row['PropertyName']}\"\n",
    "        print(combined_string)\n",
    "\n",
    "noDef = defDf[defDf['Type']=='Role name']\n",
    "if len(noDef) > 0:\n",
    "    print('')\n",
    "    print('Navigable association ends without role name (' + str(len(noDef)) + '):')\n",
    "    for index, row in noDef.iterrows():\n",
    "        combined_string = f\"{row['PackageName']}.{row['ElementName']} towards {row['Supplier']}\"\n",
    "        print(combined_string)\n",
    "\n",
    "noDef = defDf[defDf['Type']=='Role']\n",
    "if len(noDef) > 0:\n",
    "    print('')\n",
    "    print('Navigable association ends without definition (' + str(len(noDef)) + '):')\n",
    "    for index, row in noDef.iterrows():\n",
    "        if row['PropertyName'] != None:\n",
    "            combined_string = f\"{row['PackageName']}.{row['ElementName']}.{row['PropertyName']} towards {row['Supplier']}\"\n",
    "        else:\n",
    "            combined_string = f\"{row['PackageName']}.{row['ElementName']} towards {row['Supplier']}\"\n",
    "        print(combined_string)\n"
   ]
  },
  {
   "cell_type": "markdown",
   "metadata": {},
   "source": [
    "Check that all elements are shown in at least one diagram"
   ]
  },
  {
   "cell_type": "markdown",
   "metadata": {},
   "source": [
    "Check that there are no duplicate element names"
   ]
  }
 ],
 "metadata": {
  "kernelspec": {
   "display_name": "Python 3",
   "language": "python",
   "name": "python3"
  },
  "language_info": {
   "codemirror_mode": {
    "name": "ipython",
    "version": 3
   },
   "file_extension": ".py",
   "mimetype": "text/x-python",
   "name": "python",
   "nbconvert_exporter": "python",
   "pygments_lexer": "ipython3",
   "version": "3.12.3"
  }
 },
 "nbformat": 4,
 "nbformat_minor": 2
}
