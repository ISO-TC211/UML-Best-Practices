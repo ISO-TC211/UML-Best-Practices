{
 "cells": [
  {
   "cell_type": "markdown",
   "metadata": {},
   "source": [
    "# ISO TC/211 Harmonised Model Controls"
   ]
  },
  {
   "cell_type": "markdown",
   "metadata": {},
   "source": [
    "Connect to the EA app and model repository"
   ]
  },
  {
   "cell_type": "code",
   "execution_count": 1,
   "metadata": {},
   "outputs": [
    {
     "name": "stdout",
     "output_type": "stream",
     "text": [
      "2025-03-24 19:06:13   Hi EA - are you there? \n",
      "2025-03-24 19:06:13   I am here\n",
      "2025-03-24 19:06:13   Hi EA - Please open this repository: C:\\Data\\GitHub\\ISO TC211\\HMMG\\EditorialVersion\\ISOTC211_HM EditorialVersion.qea\n",
      "2025-03-24 19:06:15   OK! Repository C:\\Data\\GitHub\\ISO TC211\\HMMG\\EditorialVersion\\ISOTC211_HM EditorialVersion.qea is ready!\n",
      "2025-03-24 19:06:16   Model \"Conceptual Models\" found with PackageGUID {7B6B28E9-C583-4363-9E9C-F37A37AE06C9}\n",
      "2025-03-24 19:06:16   Number of main packages: 5\n"
     ]
    }
   ],
   "source": [
    "from Parameters import *\n",
    "from EAConnect import *\n",
    "from HM_Controls import *\n",
    "import sys\n",
    "import pandas as pd\n",
    "\n",
    "# Open EA Repository and find Model\n",
    "eaApp = openEAapp()\n",
    "eaRepo = openEArepo(eaApp,repo_path)\n",
    "try:\n",
    "    omMod = eaRepo.Models.GetByName(modelName)\n",
    "    printTS('Model \"' + modelName + '\" found with PackageGUID ' + omMod.PackageGUID )\n",
    "except Exception as e:\n",
    "    printTS('Model  \"' + modelName + '\" not found!')\n",
    "    closeEA(eaRepo)\n",
    "    sys.exit()\n",
    "printTS('Number of main packages: ' + str(omMod.Packages.Count))\n",
    "timestamp = datetime.now().strftime(\"%Y-%m-%d %H:%M:%S\")"
   ]
  },
  {
   "cell_type": "markdown",
   "metadata": {},
   "source": [
    "## Select a package in EA before continuing"
   ]
  },
  {
   "cell_type": "code",
   "execution_count": 2,
   "metadata": {},
   "outputs": [
    {
     "name": "stdout",
     "output_type": "stream",
     "text": [
      "2025-03-24 19:06:54   Selected package name: ISO/CD TS 19166 Edition 2\n"
     ]
    }
   ],
   "source": [
    "thePackage = eaRepo.GetTreeSelectedPackage()\n",
    "printTS('Selected package name: ' + thePackage.Name)"
   ]
  },
  {
   "cell_type": "markdown",
   "metadata": {},
   "source": [
    "**Package tags and alias**\n",
    "\n",
    "Add or update package tags and alias"
   ]
  },
  {
   "cell_type": "code",
   "execution_count": 3,
   "metadata": {},
   "outputs": [
    {
     "name": "stdout",
     "output_type": "stream",
     "text": [
      "name: BIM to GIS conceptual mapping (B2GM)\n",
      "number: 19166\n",
      "edition: 2\n",
      "publicationDate: \n",
      "yearVersion: 2025\n"
     ]
    },
    {
     "data": {
      "text/plain": [
       "True"
      ]
     },
     "execution_count": 3,
     "metadata": {},
     "output_type": "execute_result"
    }
   ],
   "source": [
    "lstMd = {}\n",
    "lstMd['name'] = 'BIM to GIS conceptual mapping (B2GM)'\n",
    "lstMd['number'] = '19166'\n",
    "lstMd['edition'] = '2'\n",
    "lstMd['publicationDate'] = ''\n",
    "lstMd['yearVersion']= '2025'\n",
    "\n",
    "eaEl = thePackage.Element\n",
    "\n",
    "#Update existing tags and add missing tags\n",
    "for key, value in lstMd.items():\n",
    "    print(f\"{key}: {value}\")\n",
    "    try:\n",
    "        eaTag = eaEl.TaggedValues.GetByName(key)\n",
    "        if not eaTag is None:\n",
    "            eaTag.Value = value\n",
    "            eaTag.Update()\n",
    "        else:\n",
    "            print('New tag!')\n",
    "            eaTag = eaEl.TaggedValues.AddNew(key,value)\n",
    "            eaTag.Update()    \n",
    "    except:\n",
    "        print('Something went wrong!')\n",
    "eaEl.TaggedValues.Refresh()\n",
    "\n",
    "#Set alias\n",
    "eaEl.Alias = lstMd['name']\n",
    "eaEl.Update()\n",
    "\n",
    "#TODO:Update status?\n",
    "\n"
   ]
  },
  {
   "cell_type": "markdown",
   "metadata": {},
   "source": [
    "**Duplicates:**\n",
    "\n",
    "Check that there are no duplicate element names"
   ]
  },
  {
   "cell_type": "code",
   "execution_count": 3,
   "metadata": {},
   "outputs": [
    {
     "name": "stdout",
     "output_type": "stream",
     "text": [
      "2025-03-24 19:07:05   ----------------------------\n",
      "2025-03-24 19:07:05   Package: PK\n",
      "2025-03-24 19:07:05   ----------------------------\n",
      "2025-03-24 19:07:05   Package: B2GM\n",
      "2025-03-24 19:07:05   ----------------------------\n",
      "2025-03-24 19:07:05   Package: B2GM EM\n",
      "2025-03-24 19:07:05   ----------------------------\n",
      "2025-03-24 19:07:05   Package: B2GM LM\n",
      "2025-03-24 19:07:05   ----------------------------\n",
      "2025-03-24 19:07:05   Package: B2GM PD\n",
      "2025-03-24 19:07:05   ----------------------------\n",
      "2025-03-24 19:07:05   Package: BIM model\n",
      "2025-03-24 19:07:05   ----------------------------\n",
      "2025-03-24 19:07:05   Package: GIS model\n",
      "2025-03-24 19:07:05   ERROR|Duplicate element: geometry\n",
      "2025-03-24 19:07:05   ERROR|Duplicate element: property\n",
      "2025-03-24 19:07:05   ERROR|Duplicate element: property_set\n",
      "2025-03-24 19:07:05   ERROR|Duplicate element: relationship\n",
      "2025-03-24 19:07:05   ERROR|Duplicate element: runtime\n",
      "2025-03-24 19:07:05   ----------------------------\n",
      "2025-03-24 19:07:05   Package: UC\n",
      "2025-03-24 19:07:05   Number of errors: 10\n",
      "\n",
      "Duplicate elements: \n",
      "geometry\n",
      "property\n",
      "property_set\n",
      "relationship\n",
      "runtime\n",
      "geometry\n",
      "property\n",
      "property_set\n",
      "relationship\n",
      "runtime\n"
     ]
    }
   ],
   "source": [
    "df = duplicateElements(thePackage)\n",
    "non_unique = df[df.duplicated(subset=['ElementName'], keep=False)]\n",
    "errCount = len(non_unique)\n",
    "printTS('Number of errors: ' + str(errCount))\n",
    "\n",
    "if errCount > 0:\n",
    "    print('')\n",
    "    print('Duplicate elements: ')\n",
    "    for index, row in non_unique.iterrows():\n",
    "        combined_string = f\"{row['ElementName']}\"\n",
    "        print(combined_string)"
   ]
  },
  {
   "cell_type": "markdown",
   "metadata": {},
   "source": [
    "**Data type references:**\n",
    "\n",
    "Check that all data types are references to an element.\n",
    "Missing references to primitive data types are fixed in the script.\n",
    "\n",
    "The results are stored in a data frame for further use."
   ]
  },
  {
   "cell_type": "code",
   "execution_count": 4,
   "metadata": {},
   "outputs": [
    {
     "name": "stdout",
     "output_type": "stream",
     "text": [
      "2025-03-24 19:07:19   ----------------------------\n",
      "2025-03-24 19:07:19   Package: PK\n",
      "2025-03-24 19:07:20   ----------------------------\n",
      "2025-03-24 19:07:20   Package: B2GM\n",
      "2025-03-24 19:07:20   ----------------------------\n",
      "2025-03-24 19:07:20   Package: B2GM EM\n",
      "2025-03-24 19:07:20   ERROR|Missing data type connection for attribute :EM_rule.PSet_operation (Data type: {Replace, Append})\n",
      "2025-03-24 19:07:20   ----------------------------\n",
      "2025-03-24 19:07:20   Package: B2GM LM\n",
      "2025-03-24 19:07:21   ----------------------------\n",
      "2025-03-24 19:07:21   Package: B2GM PD\n",
      "2025-03-24 19:07:21   ERROR|Missing data type connection for attribute :PD_property.type (Data type: {Integer, Real, CharacterString})\n",
      "2025-03-24 19:07:23   ----------------------------\n",
      "2025-03-24 19:07:23   Package: BIM model\n",
      "2025-03-24 19:07:23   ERROR|Missing data type connection for attribute :property.type (Data type: {Integer, Real, CharacterString})\n",
      "2025-03-24 19:07:24   ERROR|Missing data type connection for attribute :relationship.type (Data type: {Association, Dependency, Generalization})\n",
      "2025-03-24 19:07:24   ----------------------------\n",
      "2025-03-24 19:07:24   Package: GIS model\n",
      "2025-03-24 19:07:25   ERROR|Missing data type connection for attribute :property.type (Data type: {Integer, Real, CharacterString})\n",
      "2025-03-24 19:07:25   ERROR|Missing data type connection for attribute :relationship.type (Data type: {Association, Dependency, Generalization})\n",
      "2025-03-24 19:07:25   ----------------------------\n",
      "2025-03-24 19:07:25   Package: UC\n",
      "2025-03-24 19:07:25   \n",
      "2025-03-24 19:07:25   Number of errors: 6\n",
      "\n",
      "Attributes without reference:\n",
      "B2GM EM.EM_rule.PSet_operation (Data type:{Replace, Append})\n",
      "B2GM PD.PD_property.type (Data type:{Integer, Real, CharacterString})\n",
      "BIM model.property.type (Data type:{Integer, Real, CharacterString})\n",
      "BIM model.relationship.type (Data type:{Association, Dependency, Generalization})\n",
      "GIS model.property.type (Data type:{Integer, Real, CharacterString})\n",
      "GIS model.relationship.type (Data type:{Association, Dependency, Generalization})\n"
     ]
    }
   ],
   "source": [
    "#df = pd.DataFrame(columns=['FullPath','Package','Element','Property','DependentPackage','DependentElement','GUID'])\n",
    "df = listClassifiers(eaRepo,thePackage)\n",
    "noRef = df[df['GUID'].isna()]\n",
    "errCount = len(noRef)\n",
    "printTS('')\n",
    "printTS('Number of errors: ' + str(errCount))\n",
    "\n",
    "print('')\n",
    "print('Attributes without reference:')\n",
    "for index, row in noRef.iterrows():\n",
    "    combined_string = f\"{row['Package']}.{row['Element']}.{row['Property']} (Data type:{row['DependentElement']})\"\n",
    "    print(combined_string)\n",
    "\n",
    "\n"
   ]
  },
  {
   "cell_type": "markdown",
   "metadata": {},
   "source": [
    "**Dependencies:**\n",
    "\n",
    "Check which packages data types and relations are connected to."
   ]
  },
  {
   "cell_type": "code",
   "execution_count": 17,
   "metadata": {},
   "outputs": [
    {
     "name": "stdout",
     "output_type": "stream",
     "text": [
      "DependentPackage\n",
      "ISO TC211.ISO 19103 Conceptual schema language.ISO 19103 Edition 2.Core Data Types                    29\n",
      "ISO TC211.ISO 19107 Spatial schema.ISO 19107 Edition 2.Geometry                                        2\n",
      "ISO TC211.ISO 19109 Rules for application schema.ISO/FDIS 19109 Edition 3.General Feature Model       10\n",
      "ISO TC211.ISO 19166 BIM to GIS conceptual mapping (B2GM).ISO/CD TS 19166 Edition 2.PK.B2GM.B2GM EM     6\n",
      "ISO TC211.ISO 19166 BIM to GIS conceptual mapping (B2GM).ISO/CD TS 19166 Edition 2.PK.B2GM.B2GM LM     8\n",
      "ISO TC211.ISO 19166 BIM to GIS conceptual mapping (B2GM).ISO/CD TS 19166 Edition 2.PK.B2GM.B2GM PD    19\n",
      "ISO TC211.ISO 19166 BIM to GIS conceptual mapping (B2GM).ISO/CD TS 19166 Edition 2.PK.BIM model       17\n",
      "ISO TC211.ISO 19166 BIM to GIS conceptual mapping (B2GM).ISO/CD TS 19166 Edition 2.PK.GIS model       14\n",
      "dtype: int64\n"
     ]
    }
   ],
   "source": [
    "dfCounts = df.groupby(['DependentPackage']).size()\n",
    "print(dfCounts)"
   ]
  },
  {
   "cell_type": "markdown",
   "metadata": {},
   "source": [
    "**Dependencies:**\n",
    "\n",
    "List elements from a specific package "
   ]
  },
  {
   "cell_type": "code",
   "execution_count": 15,
   "metadata": {},
   "outputs": [
    {
     "name": "stdout",
     "output_type": "stream",
     "text": [
      "No elements found!\n"
     ]
    }
   ],
   "source": [
    "strFilter = 'ISO TC211.ISO 19109 Rules for application schema.ISO 19109 Edition 2'\n",
    "\n",
    "df_cleaned = df.dropna(subset=['DependentPackage'])\n",
    "filtered_df = df_cleaned[df_cleaned['DependentPackage'].str.startswith(strFilter)]\n",
    "\n",
    "if len(filtered_df) > 0:\n",
    "    print('Refered elements from package \"' + strFilter + '*\"')\n",
    "    for index, row in filtered_df.iterrows():\n",
    "        print(f\"{row['Element']}.{row['Property']} (Data type:{row['DependentPackage']}.{row['DependentElement']})\")\n",
    "else:\n",
    "    print('No elements found!')    "
   ]
  },
  {
   "cell_type": "markdown",
   "metadata": {},
   "source": [
    "**Upgrade model to new 19103**\n",
    "\n",
    "Refer attribute data types to core types from 19103 Edition 2\n",
    "Update classifiers to type and stereotype from 19103 Edition 2"
   ]
  },
  {
   "cell_type": "code",
   "execution_count": 5,
   "metadata": {},
   "outputs": [
    {
     "name": "stdout",
     "output_type": "stream",
     "text": [
      "2025-03-05 15:49:30   ----------------------------\n",
      "2025-03-05 15:49:30   Package: PK\n",
      "2025-03-05 15:49:30   ----------------------------\n",
      "2025-03-05 15:49:30   Package: B2GM\n",
      "2025-03-05 15:49:30   ----------------------------\n",
      "2025-03-05 15:49:30   Package: B2GM EM\n",
      "2025-03-05 15:49:30   INFO|Fixing referenced element for attribute: ISO TC211.ISO 19166 BIM to GIS conceptual mapping (B2GM).ISO/CD TS 19166 Edition 2.PK.B2GM.CharacterString (GUID = {DDAA0BF3-9341-426c-8C73-FEAFDE87EB13})\n",
      "2025-03-05 15:49:30   INFO|Fixing referenced element for attribute: ISO TC211.ISO 19166 BIM to GIS conceptual mapping (B2GM).ISO/CD TS 19166 Edition 2.PK.B2GM.CharacterString (GUID = {DDAA0BF3-9341-426c-8C73-FEAFDE87EB13})\n",
      "2025-03-05 15:49:30   INFO|Fixing referenced element for attribute: ISO TC211.ISO 19166 BIM to GIS conceptual mapping (B2GM).ISO/CD TS 19166 Edition 2.PK.B2GM.CharacterString (GUID = {DDAA0BF3-9341-426c-8C73-FEAFDE87EB13})\n",
      "2025-03-05 15:49:30   INFO|Fixing referenced element for attribute: ISO TC211.ISO 19166 BIM to GIS conceptual mapping (B2GM).ISO/CD TS 19166 Edition 2.PK.B2GM.CharacterString (GUID = {DDAA0BF3-9341-426c-8C73-FEAFDE87EB13})\n",
      "2025-03-05 15:49:30   INFO|Fixing referenced element for attribute: ISO TC211.ISO 19166 BIM to GIS conceptual mapping (B2GM).ISO/CD TS 19166 Edition 2.PK.B2GM.URI (GUID = {03BC26E9-81FF-45c0-9F95-613300D0D5E9})\n",
      "2025-03-05 15:49:30   INFO|Fixing referenced element for attribute: ISO TC211.ISO 19166 BIM to GIS conceptual mapping (B2GM).ISO/CD TS 19166 Edition 2.PK.B2GM.URI (GUID = {03BC26E9-81FF-45c0-9F95-613300D0D5E9})\n",
      "2025-03-05 15:49:30   INFO|Fixing referenced element for attribute: ISO TC211.ISO 19166 BIM to GIS conceptual mapping (B2GM).ISO/CD TS 19166 Edition 2.PK.B2GM.CharacterString (GUID = {DDAA0BF3-9341-426c-8C73-FEAFDE87EB13})\n",
      "2025-03-05 15:49:30   ----------------------------\n",
      "2025-03-05 15:49:30   Package: B2GM LM\n",
      "2025-03-05 15:49:30   INFO|Fixing referenced element for attribute: ISO TC211.ISO 19166 BIM to GIS conceptual mapping (B2GM).ISO/CD TS 19166 Edition 2.PK.B2GM.CharacterString (GUID = {DDAA0BF3-9341-426c-8C73-FEAFDE87EB13})\n",
      "2025-03-05 15:49:30   INFO|Fixing referenced element for attribute: ISO TC211.ISO 19166 BIM to GIS conceptual mapping (B2GM).ISO/CD TS 19166 Edition 2.PK.B2GM.CharacterString (GUID = {DDAA0BF3-9341-426c-8C73-FEAFDE87EB13})\n",
      "2025-03-05 15:49:30   INFO|Fixing referenced element for attribute: ISO TC211.ISO 19166 BIM to GIS conceptual mapping (B2GM).ISO/CD TS 19166 Edition 2.PK.B2GM.Real (GUID = {2738F7F2-41E0-432c-B068-B84A06130B3D})\n",
      "2025-03-05 15:49:30   ----------------------------\n",
      "2025-03-05 15:49:30   Package: B2GM PD\n",
      "2025-03-05 15:49:30   INFO|Fixing referenced element for attribute: ISO TC211.ISO 19166 BIM to GIS conceptual mapping (B2GM).ISO/CD TS 19166 Edition 2.PK.B2GM.CharacterString (GUID = {DDAA0BF3-9341-426c-8C73-FEAFDE87EB13})\n",
      "2025-03-05 15:49:30   INFO|Fixing referenced element for attribute: ISO TC211.ISO 19166 BIM to GIS conceptual mapping (B2GM).ISO/CD TS 19166 Edition 2.PK.B2GM.CharacterString (GUID = {DDAA0BF3-9341-426c-8C73-FEAFDE87EB13})\n",
      "2025-03-05 15:49:30   INFO|Fixing referenced element for attribute: ISO TC211.ISO 19166 BIM to GIS conceptual mapping (B2GM).ISO/CD TS 19166 Edition 2.PK.B2GM.CharacterString (GUID = {DDAA0BF3-9341-426c-8C73-FEAFDE87EB13})\n",
      "2025-03-05 15:49:30   INFO|Fixing referenced element for attribute: ISO TC211.ISO 19166 BIM to GIS conceptual mapping (B2GM).ISO/CD TS 19166 Edition 2.PK.B2GM.CharacterString (GUID = {DDAA0BF3-9341-426c-8C73-FEAFDE87EB13})\n",
      "2025-03-05 15:49:30   INFO|Fixing referenced element for attribute: ISO TC211.ISO 19166 BIM to GIS conceptual mapping (B2GM).ISO/CD TS 19166 Edition 2.PK.B2GM.CharacterString (GUID = {DDAA0BF3-9341-426c-8C73-FEAFDE87EB13})\n",
      "2025-03-05 15:49:30   INFO|Fixing referenced element for attribute: ISO TC211.ISO 19166 BIM to GIS conceptual mapping (B2GM).ISO/CD TS 19166 Edition 2.PK.B2GM.CharacterString (GUID = {DDAA0BF3-9341-426c-8C73-FEAFDE87EB13})\n",
      "2025-03-05 15:49:30   INFO|Fixing referenced element for attribute: ISO TC211.ISO 19166 BIM to GIS conceptual mapping (B2GM).ISO/CD TS 19166 Edition 2.PK.B2GM.CharacterString (GUID = {DDAA0BF3-9341-426c-8C73-FEAFDE87EB13})\n",
      "2025-03-05 15:49:30   ----------------------------\n",
      "2025-03-05 15:49:30   Package: BIM model\n",
      "2025-03-05 15:49:30   INFO|Fixing referenced element for attribute: ISO TC211.ISO 19166 BIM to GIS conceptual mapping (B2GM).ISO/CD TS 19166 Edition 2.PK.CharacterString (GUID = {DDAA0BF3-9341-426c-8C73-FEAFDE87EB13})\n",
      "2025-03-05 15:49:30   INFO|Fixing referenced element for attribute: ISO TC211.ISO 19166 BIM to GIS conceptual mapping (B2GM).ISO/CD TS 19166 Edition 2.PK.CharacterString (GUID = {DDAA0BF3-9341-426c-8C73-FEAFDE87EB13})\n",
      "2025-03-05 15:49:30   INFO|Fixing referenced element for attribute: ISO TC211.ISO 19166 BIM to GIS conceptual mapping (B2GM).ISO/CD TS 19166 Edition 2.PK.CharacterString (GUID = {DDAA0BF3-9341-426c-8C73-FEAFDE87EB13})\n",
      "2025-03-05 15:49:30   INFO|Fixing referenced element for attribute: ISO TC211.ISO 19166 BIM to GIS conceptual mapping (B2GM).ISO/CD TS 19166 Edition 2.PK.CharacterString (GUID = {DDAA0BF3-9341-426c-8C73-FEAFDE87EB13})\n",
      "2025-03-05 15:49:30   ----------------------------\n",
      "2025-03-05 15:49:30   Package: GFM\n",
      "2025-03-05 15:49:30   ----------------------------\n",
      "2025-03-05 15:49:30   Package: GIS model\n",
      "2025-03-05 15:49:30   INFO|Fixing referenced element for attribute: ISO TC211.ISO 19166 BIM to GIS conceptual mapping (B2GM).ISO/CD TS 19166 Edition 2.PK.CharacterString (GUID = {DDAA0BF3-9341-426c-8C73-FEAFDE87EB13})\n",
      "2025-03-05 15:49:30   INFO|Fixing referenced element for attribute: ISO TC211.ISO 19166 BIM to GIS conceptual mapping (B2GM).ISO/CD TS 19166 Edition 2.PK.CharacterString (GUID = {DDAA0BF3-9341-426c-8C73-FEAFDE87EB13})\n",
      "2025-03-05 15:49:31   INFO|Fixing referenced element for attribute: ISO TC211.ISO 19166 BIM to GIS conceptual mapping (B2GM).ISO/CD TS 19166 Edition 2.PK.CharacterString (GUID = {DDAA0BF3-9341-426c-8C73-FEAFDE87EB13})\n",
      "2025-03-05 15:49:31   INFO|Fixing referenced element for attribute: ISO TC211.ISO 19166 BIM to GIS conceptual mapping (B2GM).ISO/CD TS 19166 Edition 2.PK.CharacterString (GUID = {DDAA0BF3-9341-426c-8C73-FEAFDE87EB13})\n",
      "2025-03-05 15:49:31   ----------------------------\n",
      "2025-03-05 15:49:31   Package: UC\n"
     ]
    }
   ],
   "source": [
    "dfCSL = fixCSL(eaRepo,thePackage)"
   ]
  },
  {
   "cell_type": "markdown",
   "metadata": {},
   "source": [
    "**Definitions:**\n",
    "\n",
    "Check that all classes, attributes and navigable associations have definitions"
   ]
  },
  {
   "cell_type": "code",
   "execution_count": 5,
   "metadata": {},
   "outputs": [
    {
     "name": "stdout",
     "output_type": "stream",
     "text": [
      "2025-03-24 19:07:39   ----------------------------\n",
      "2025-03-24 19:07:39   Package: PK\n",
      "2025-03-24 19:07:39   ----------------------------\n",
      "2025-03-24 19:07:39   Package: B2GM\n",
      "2025-03-24 19:07:39   ----------------------------\n",
      "2025-03-24 19:07:39   Package: B2GM EM\n",
      "2025-03-24 19:07:39   ERROR|Missing definition for attribute in package B2GM EM: EM_destination.element\n",
      "2025-03-24 19:07:39   ERROR|Missing definition for attribute in package B2GM EM: EM_source.element\n",
      "2025-03-24 19:07:39   ERROR|Missing definition for attribute in package B2GM EM: EM_rule.name\n",
      "2025-03-24 19:07:39   ERROR|Missing definition for attribute in package B2GM EM: EM_rule.PSet_operation\n",
      "2025-03-24 19:07:39   ERROR|Missing role name for Navigable association in package B2GM EM: EM_rule towards EM_destination\n",
      "2025-03-24 19:07:39   ERROR|Missing role definition for Navigable association in package B2GM EM: EM_rule towards EM_destination\n",
      "2025-03-24 19:07:39   ERROR|Missing role name for Navigable association in package B2GM EM: EM_rule towards EM_source\n",
      "2025-03-24 19:07:39   ERROR|Missing role definition for Navigable association in package B2GM EM: EM_rule towards EM_source\n",
      "2025-03-24 19:07:39   ERROR|Missing definition for attribute in package B2GM EM: EM_ruleset.name\n",
      "2025-03-24 19:07:39   ERROR|Missing definition for attribute in package B2GM EM: EM_ruleset.description\n",
      "2025-03-24 19:07:39   ERROR|Missing definition for attribute in package B2GM EM: EM_ruleset.BIM_model_source\n",
      "2025-03-24 19:07:39   ERROR|Missing definition for attribute in package B2GM EM: EM_ruleset.GIS_model_destination\n",
      "2025-03-24 19:07:39   ERROR|Missing role name for Navigable association in package B2GM EM: EM_ruleset towards EM_rule\n",
      "2025-03-24 19:07:39   ERROR|Missing role definition for Navigable association in package B2GM EM: EM_ruleset towards EM_rule\n",
      "2025-03-24 19:07:39   ----------------------------\n",
      "2025-03-24 19:07:39   Package: B2GM LM\n",
      "2025-03-24 19:07:39   ERROR|Missing definition for attribute in package B2GM LM: OBB.x_direction\n",
      "2025-03-24 19:07:39   ERROR|Missing definition for attribute in package B2GM LM: OBB.y_direction\n",
      "2025-03-24 19:07:39   ERROR|Missing definition for attribute in package B2GM LM: OBB.extent\n",
      "2025-03-24 19:07:39   ERROR|Missing definition for attribute in package B2GM LM: vector3D.v\n",
      "2025-03-24 19:07:39   ERROR|Missing definition for attribute in package B2GM LM: LM_rule.name\n",
      "2025-03-24 19:07:39   ERROR|Missing definition for attribute in package B2GM LM: LM_ruleset.name\n",
      "2025-03-24 19:07:39   ERROR|Missing role name for Navigable association in package B2GM LM: LM_ruleset towards LM_rule\n",
      "2025-03-24 19:07:39   ERROR|Missing role definition for Navigable association in package B2GM LM: LM_ruleset towards LM_rule\n",
      "2025-03-24 19:07:39   ----------------------------\n",
      "2025-03-24 19:07:39   Package: B2GM PD\n",
      "2025-03-24 19:07:39   ERROR|Missing definition for attribute in package B2GM PD: PD_category.name\n",
      "2025-03-24 19:07:39   ERROR|Missing role name for Navigable association in package B2GM PD: PD_category towards PD_category\n",
      "2025-03-24 19:07:39   ERROR|Missing role definition for Navigable association in package B2GM PD: PD_category towards PD_category\n",
      "2025-03-24 19:07:40   ERROR|Missing role name for Navigable association in package B2GM PD: PD_category towards PD_property\n",
      "2025-03-24 19:07:40   ERROR|Missing role definition for Navigable association in package B2GM PD: PD_category towards PD_property\n",
      "2025-03-24 19:07:40   ERROR|Missing definition for attribute in package B2GM PD: PD_property.name\n",
      "2025-03-24 19:07:40   ERROR|Missing definition for attribute in package B2GM PD: PD_property.value\n",
      "2025-03-24 19:07:40   ERROR|Missing definition for attribute in package B2GM PD: PD_property.type\n",
      "2025-03-24 19:07:40   ERROR|Missing definition for attribute in package B2GM PD: PD_property_style.category\n",
      "2025-03-24 19:07:40   ERROR|Missing definition for attribute in package B2GM PD: PD_property_style.property\n",
      "2025-03-24 19:07:40   ERROR|Missing definition for attribute in package B2GM PD: PD_property_style.formattingOperation\n",
      "2025-03-24 19:07:40   ERROR|Missing definition for attribute in package B2GM PD: PD.name\n",
      "2025-03-24 19:07:40   ERROR|Missing definition for attribute in package B2GM PD: PD.BIM_model_destination\n",
      "2025-03-24 19:07:40   ERROR|Missing role name for Navigable association in package B2GM PD: PD towards PD_data_view\n",
      "2025-03-24 19:07:40   ERROR|Missing role definition for Navigable association in package B2GM PD: PD towards PD_data_view\n",
      "2025-03-24 19:07:40   ERROR|Missing role name for Navigable association in package B2GM PD: PD towards PD_logic_view\n",
      "2025-03-24 19:07:40   ERROR|Missing role definition for Navigable association in package B2GM PD: PD towards PD_logic_view\n",
      "2025-03-24 19:07:40   ERROR|Missing role name for Navigable association in package B2GM PD: PD towards PD_style_view\n",
      "2025-03-24 19:07:40   ERROR|Missing role definition for Navigable association in package B2GM PD: PD towards PD_style_view\n",
      "2025-03-24 19:07:40   ERROR|Missing role name for Navigable association in package B2GM PD: PD_data_view towards PD_element\n",
      "2025-03-24 19:07:40   ERROR|Missing role definition for Navigable association in package B2GM PD: PD_data_view towards PD_element\n",
      "2025-03-24 19:07:40   ERROR|Missing definition for attribute in package B2GM PD: PD_element.objectGUID\n",
      "2025-03-24 19:07:40   ERROR|Missing role name for Navigable association in package B2GM PD: PD_element towards PD_category\n",
      "2025-03-24 19:07:40   ERROR|Missing role definition for Navigable association in package B2GM PD: PD_element towards PD_category\n",
      "2025-03-24 19:07:40   ERROR|Missing definition for attribute in package B2GM PD: PD_logic_view.external_data_source\n",
      "2025-03-24 19:07:40   ERROR|Missing definition for attribute in package B2GM PD: PD_logic_view.ETL_module\n",
      "2025-03-24 19:07:40   ERROR|Missing role name for Navigable association in package B2GM PD: PD_style_view towards PD_property_style\n",
      "2025-03-24 19:07:40   ERROR|Missing role definition for Navigable association in package B2GM PD: PD_style_view towards PD_property_style\n",
      "2025-03-24 19:07:40   ----------------------------\n",
      "2025-03-24 19:07:40   Package: BIM model\n",
      "2025-03-24 19:07:40   ERROR|Missing role name for Navigable association in package BIM model: BIM_element towards property_set\n",
      "2025-03-24 19:07:40   ERROR|Missing role definition for Navigable association in package BIM model: BIM_element towards property_set\n",
      "2025-03-24 19:07:40   ERROR|Missing role name for Navigable association in package BIM model: BIM_element towards relationship\n",
      "2025-03-24 19:07:40   ERROR|Missing role definition for Navigable association in package BIM model: BIM_element towards relationship\n",
      "2025-03-24 19:07:40   ERROR|Missing role name for Navigable association in package BIM model: BIM_element towards geometry\n",
      "2025-03-24 19:07:40   ERROR|Missing role definition for Navigable association in package BIM model: BIM_element towards geometry\n",
      "2025-03-24 19:07:40   ERROR|Missing role name for Navigable association in package BIM model: BIM_element towards runtime\n",
      "2025-03-24 19:07:40   ERROR|Missing role definition for Navigable association in package BIM model: BIM_element towards runtime\n",
      "2025-03-24 19:07:40   ERROR|Missing role name for Navigable association in package BIM model: BIM_model towards BIM_element\n",
      "2025-03-24 19:07:40   ERROR|Missing role definition for Navigable association in package BIM model: BIM_model towards BIM_element\n",
      "2025-03-24 19:07:40   ERROR|Missing definition for attribute in package BIM model: property.name\n",
      "2025-03-24 19:07:40   ERROR|Missing definition for attribute in package BIM model: property.type\n",
      "2025-03-24 19:07:40   ERROR|Missing definition for attribute in package BIM model: property.value\n",
      "2025-03-24 19:07:40   ERROR|Missing definition for attribute in package BIM model: property_set.name\n",
      "2025-03-24 19:07:40   ERROR|Missing role name for Navigable association in package BIM model: property_set towards property\n",
      "2025-03-24 19:07:40   ERROR|Missing role definition for Navigable association in package BIM model: property_set towards property\n",
      "2025-03-24 19:07:40   ERROR|Missing definition for attribute in package BIM model: relationship.name\n",
      "2025-03-24 19:07:40   ERROR|Missing definition for attribute in package BIM model: relationship.type\n",
      "2025-03-24 19:07:40   ERROR|Missing definition for attribute in package BIM model: runtime.type\n",
      "2025-03-24 19:07:40   ----------------------------\n",
      "2025-03-24 19:07:40   Package: GIS model\n",
      "2025-03-24 19:07:40   ERROR|Missing role name for Navigable association in package GIS model: GIS_element towards property_set\n",
      "2025-03-24 19:07:40   ERROR|Missing role definition for Navigable association in package GIS model: GIS_element towards property_set\n",
      "2025-03-24 19:07:40   ERROR|Missing role name for Navigable association in package GIS model: GIS_element towards runtime\n",
      "2025-03-24 19:07:40   ERROR|Missing role definition for Navigable association in package GIS model: GIS_element towards runtime\n",
      "2025-03-24 19:07:40   ERROR|Missing role name for Navigable association in package GIS model: GIS_element towards relationship\n",
      "2025-03-24 19:07:40   ERROR|Missing role definition for Navigable association in package GIS model: GIS_element towards relationship\n",
      "2025-03-24 19:07:40   ERROR|Missing role name for Navigable association in package GIS model: GIS_element towards LOD\n",
      "2025-03-24 19:07:40   ERROR|Missing role definition for Navigable association in package GIS model: GIS_element towards LOD\n",
      "2025-03-24 19:07:40   ERROR|Missing role name for Navigable association in package GIS model: GIS_model towards GIS_element\n",
      "2025-03-24 19:07:40   ERROR|Missing role definition for Navigable association in package GIS model: GIS_model towards GIS_element\n",
      "2025-03-24 19:07:40   ERROR|Missing definition for attribute in package GIS model: LOD.name\n",
      "2025-03-24 19:07:40   ERROR|Missing role name for Navigable association in package GIS model: LOD towards geometry\n",
      "2025-03-24 19:07:40   ERROR|Missing role definition for Navigable association in package GIS model: LOD towards geometry\n",
      "2025-03-24 19:07:40   ERROR|Missing definition for attribute in package GIS model: property.name\n",
      "2025-03-24 19:07:40   ERROR|Missing definition for attribute in package GIS model: property.type\n",
      "2025-03-24 19:07:40   ERROR|Missing definition for attribute in package GIS model: property.value\n",
      "2025-03-24 19:07:41   ERROR|Missing definition for attribute in package GIS model: property_set.name\n",
      "2025-03-24 19:07:41   ERROR|Missing role name for Navigable association in package GIS model: property_set towards property\n",
      "2025-03-24 19:07:41   ERROR|Missing role definition for Navigable association in package GIS model: property_set towards property\n",
      "2025-03-24 19:07:41   ERROR|Missing definition for attribute in package GIS model: relationship.name\n",
      "2025-03-24 19:07:41   ERROR|Missing definition for attribute in package GIS model: relationship.type\n",
      "2025-03-24 19:07:41   ERROR|Missing definition for attribute in package GIS model: runtime.type\n",
      "2025-03-24 19:07:41   ----------------------------\n",
      "2025-03-24 19:07:41   Package: UC\n",
      "2025-03-24 19:07:41   \n",
      "2025-03-24 19:07:41   Number of errors: 91\n",
      "\n",
      "\n",
      "Attributes without definitions (41):\n",
      "B2GM EM.EM_destination.element\n",
      "B2GM EM.EM_source.element\n",
      "B2GM EM.EM_rule.name\n",
      "B2GM EM.EM_rule.PSet_operation\n",
      "B2GM EM.EM_ruleset.name\n",
      "B2GM EM.EM_ruleset.description\n",
      "B2GM EM.EM_ruleset.BIM_model_source\n",
      "B2GM EM.EM_ruleset.GIS_model_destination\n",
      "B2GM LM.OBB.x_direction\n",
      "B2GM LM.OBB.y_direction\n",
      "B2GM LM.OBB.extent\n",
      "B2GM LM.vector3D.v\n",
      "B2GM LM.LM_rule.name\n",
      "B2GM LM.LM_ruleset.name\n",
      "B2GM PD.PD_category.name\n",
      "B2GM PD.PD_property.name\n",
      "B2GM PD.PD_property.value\n",
      "B2GM PD.PD_property.type\n",
      "B2GM PD.PD_property_style.category\n",
      "B2GM PD.PD_property_style.property\n",
      "B2GM PD.PD_property_style.formattingOperation\n",
      "B2GM PD.PD.name\n",
      "B2GM PD.PD.BIM_model_destination\n",
      "B2GM PD.PD_element.objectGUID\n",
      "B2GM PD.PD_logic_view.external_data_source\n",
      "B2GM PD.PD_logic_view.ETL_module\n",
      "BIM model.property.name\n",
      "BIM model.property.type\n",
      "BIM model.property.value\n",
      "BIM model.property_set.name\n",
      "BIM model.relationship.name\n",
      "BIM model.relationship.type\n",
      "BIM model.runtime.type\n",
      "GIS model.LOD.name\n",
      "GIS model.property.name\n",
      "GIS model.property.type\n",
      "GIS model.property.value\n",
      "GIS model.property_set.name\n",
      "GIS model.relationship.name\n",
      "GIS model.relationship.type\n",
      "GIS model.runtime.type\n",
      "\n",
      "Navigable association ends without role name (25):\n",
      "B2GM EM.EM_rule towards EM_destination\n",
      "B2GM EM.EM_rule towards EM_source\n",
      "B2GM EM.EM_ruleset towards EM_rule\n",
      "B2GM LM.LM_ruleset towards LM_rule\n",
      "B2GM PD.PD_category towards PD_category\n",
      "B2GM PD.PD_category towards PD_property\n",
      "B2GM PD.PD towards PD_data_view\n",
      "B2GM PD.PD towards PD_logic_view\n",
      "B2GM PD.PD towards PD_style_view\n",
      "B2GM PD.PD_data_view towards PD_element\n",
      "B2GM PD.PD_element towards PD_category\n",
      "B2GM PD.PD_style_view towards PD_property_style\n",
      "BIM model.BIM_element towards property_set\n",
      "BIM model.BIM_element towards relationship\n",
      "BIM model.BIM_element towards geometry\n",
      "BIM model.BIM_element towards runtime\n",
      "BIM model.BIM_model towards BIM_element\n",
      "BIM model.property_set towards property\n",
      "GIS model.GIS_element towards property_set\n",
      "GIS model.GIS_element towards runtime\n",
      "GIS model.GIS_element towards relationship\n",
      "GIS model.GIS_element towards LOD\n",
      "GIS model.GIS_model towards GIS_element\n",
      "GIS model.LOD towards geometry\n",
      "GIS model.property_set towards property\n",
      "\n",
      "Navigable association ends without definition (25):\n",
      "B2GM EM.EM_rule towards EM_destination\n",
      "B2GM EM.EM_rule towards EM_source\n",
      "B2GM EM.EM_ruleset towards EM_rule\n",
      "B2GM LM.LM_ruleset towards LM_rule\n",
      "B2GM PD.PD_category towards PD_category\n",
      "B2GM PD.PD_category towards PD_property\n",
      "B2GM PD.PD towards PD_data_view\n",
      "B2GM PD.PD towards PD_logic_view\n",
      "B2GM PD.PD towards PD_style_view\n",
      "B2GM PD.PD_data_view towards PD_element\n",
      "B2GM PD.PD_element towards PD_category\n",
      "B2GM PD.PD_style_view towards PD_property_style\n",
      "BIM model.BIM_element towards property_set\n",
      "BIM model.BIM_element towards relationship\n",
      "BIM model.BIM_element towards geometry\n",
      "BIM model.BIM_element towards runtime\n",
      "BIM model.BIM_model towards BIM_element\n",
      "BIM model.property_set towards property\n",
      "GIS model.GIS_element towards property_set\n",
      "GIS model.GIS_element towards runtime\n",
      "GIS model.GIS_element towards relationship\n",
      "GIS model.GIS_element towards LOD\n",
      "GIS model.GIS_model towards GIS_element\n",
      "GIS model.LOD towards geometry\n",
      "GIS model.property_set towards property\n"
     ]
    }
   ],
   "source": [
    "#defDf = pd.DataFrame(columns=['Type','PackageName','ElementName','PropertyName','Supplier'])\n",
    "defDf = listMissingDefinitions(eaRepo,thePackage)\n",
    "\n",
    "errCount = len(defDf)\n",
    "printTS('')\n",
    "printTS('Number of errors: ' + str(errCount))\n",
    "print('')\n",
    "\n",
    "\n",
    "noDef = defDf[defDf['PropertyName'].isna() & defDf['Supplier'].isna()]\n",
    "if len(noDef) > 0:\n",
    "    print('')\n",
    "    print('Elements without definitions (' + str(len(noDef)) + '):')\n",
    "    for index, row in noDef.iterrows():\n",
    "        combined_string = f\"{row['PackageName']}.{row['ElementName']}\"\n",
    "        print(combined_string)\n",
    "\n",
    "noDef = defDf[defDf['Type']=='Attribute']\n",
    "if len(noDef) > 0:\n",
    "    print('')\n",
    "    print('Attributes without definitions (' + str(len(noDef)) + '):')\n",
    "    for index, row in noDef.iterrows():\n",
    "        combined_string = f\"{row['PackageName']}.{row['ElementName']}.{row['PropertyName']}\"\n",
    "        print(combined_string)\n",
    "\n",
    "noDef = defDf[defDf['Type']=='Code value']\n",
    "if len(noDef) > 0:\n",
    "    print('')\n",
    "    print('Code values without definitions (' + str(len(noDef)) + '):')\n",
    "    for index, row in noDef.iterrows():\n",
    "        combined_string = f\"{row['PackageName']}.{row['ElementName']}.{row['PropertyName']}\"\n",
    "        print(combined_string)\n",
    "\n",
    "noDef = defDf[defDf['Type']=='Role name']\n",
    "if len(noDef) > 0:\n",
    "    print('')\n",
    "    print('Navigable association ends without role name (' + str(len(noDef)) + '):')\n",
    "    for index, row in noDef.iterrows():\n",
    "        combined_string = f\"{row['PackageName']}.{row['ElementName']} towards {row['Supplier']}\"\n",
    "        print(combined_string)\n",
    "\n",
    "noDef = defDf[defDf['Type']=='Role']\n",
    "if len(noDef) > 0:\n",
    "    print('')\n",
    "    print('Navigable association ends without definition (' + str(len(noDef)) + '):')\n",
    "    for index, row in noDef.iterrows():\n",
    "        if row['PropertyName'] != None:\n",
    "            combined_string = f\"{row['PackageName']}.{row['ElementName']}.{row['PropertyName']} towards {row['Supplier']}\"\n",
    "        else:\n",
    "            combined_string = f\"{row['PackageName']}.{row['ElementName']} towards {row['Supplier']}\"\n",
    "        print(combined_string)\n"
   ]
  },
  {
   "cell_type": "markdown",
   "metadata": {},
   "source": [
    "**Diagram representation:**\n",
    "\n",
    "Check that all elements are shown in at least one diagram"
   ]
  },
  {
   "cell_type": "code",
   "execution_count": 6,
   "metadata": {},
   "outputs": [
    {
     "name": "stdout",
     "output_type": "stream",
     "text": [
      "2025-03-24 19:08:00   ----------------------------\n",
      "2025-03-24 19:08:00   Package: PK\n",
      "2025-03-24 19:08:00   Diagram: PK (4 objects)\n",
      "2025-03-24 19:08:00   ----------------------------\n",
      "2025-03-24 19:08:00   Package: B2GM\n",
      "2025-03-24 19:08:00   Diagram: B2GM (3 objects)\n",
      "2025-03-24 19:08:00   ----------------------------\n",
      "2025-03-24 19:08:00   Package: B2GM EM\n",
      "2025-03-24 19:08:00   Diagram: B2GM EM (4 objects)\n",
      "2025-03-24 19:08:00   ----------------------------\n",
      "2025-03-24 19:08:00   Package: B2GM LM\n",
      "2025-03-24 19:08:00   Diagram: B2GM LM (4 objects)\n",
      "2025-03-24 19:08:00   ----------------------------\n",
      "2025-03-24 19:08:00   Package: B2GM PD\n",
      "2025-03-24 19:08:00   Diagram: B2GM PD (8 objects)\n",
      "2025-03-24 19:08:00   ----------------------------\n",
      "2025-03-24 19:08:00   Package: BIM model\n",
      "2025-03-24 19:08:00   Diagram: BIM model (14 objects)\n",
      "2025-03-24 19:08:01   ----------------------------\n",
      "2025-03-24 19:08:01   Package: GIS model\n",
      "2025-03-24 19:08:01   Diagram: GIS model (13 objects)\n",
      "2025-03-24 19:08:01   ----------------------------\n",
      "2025-03-24 19:08:01   Package: UC\n",
      "2025-03-24 19:08:01   Diagram: UC (8 objects)\n",
      "2025-03-24 19:08:01   ----------------------------\n",
      "2025-03-24 19:08:01   Package: PK\n",
      "2025-03-24 19:08:01   ----------------------------\n",
      "2025-03-24 19:08:01   Package: B2GM\n",
      "2025-03-24 19:08:01   ----------------------------\n",
      "2025-03-24 19:08:01   Package: B2GM EM\n",
      "2025-03-24 19:08:01   ----------------------------\n",
      "2025-03-24 19:08:01   Package: B2GM LM\n",
      "2025-03-24 19:08:01   ----------------------------\n",
      "2025-03-24 19:08:01   Package: B2GM PD\n",
      "2025-03-24 19:08:01   ----------------------------\n",
      "2025-03-24 19:08:01   Package: BIM model\n",
      "2025-03-24 19:08:01   ----------------------------\n",
      "2025-03-24 19:08:01   Package: GIS model\n",
      "2025-03-24 19:08:01   ----------------------------\n",
      "2025-03-24 19:08:01   Package: UC\n",
      "2025-03-24 19:08:01   \n",
      "2025-03-24 19:08:01   Number of errors: 0\n"
     ]
    }
   ],
   "source": [
    "dfE = elementsInDiagrams(thePackage)\n",
    "errCount = len(dfE)\n",
    "printTS('')\n",
    "printTS('Number of errors: ' + str(errCount))\n",
    "\n",
    "if errCount > 0:\n",
    "    print('')\n",
    "    print('Elements that are not in any diagram:')\n",
    "    for index, row in dfE.iterrows():\n",
    "        combined_string = f\"{row['PackageName']}.{row['ElementName']}\"\n",
    "        print(combined_string)    \n"
   ]
  },
  {
   "cell_type": "code",
   "execution_count": null,
   "metadata": {},
   "outputs": [],
   "source": [
    "# Delete elements that are not in any diagram\n",
    "for index, row in dfE.iterrows():\n",
    "    combined_string = f\"{row['PackageName']}.{row['ElementName']} ({row['GUID']})\"\n",
    "    #print(combined_string)    \n",
    "    elGUID = row['GUID']\n",
    "    el = eaRepo.GetElementByGuid(elGUID)\n",
    "    #Delete the element\n",
    "    if el:\n",
    "        # Get the parent package of the element\n",
    "        parent_package = eaRepo.GetPackageByID(el.PackageID)\n",
    "        \n",
    "        # Find and delete the element from the parent package\n",
    "        for i in range(parent_package.Elements.Count):\n",
    "            if parent_package.Elements.GetAt(i).ElementGUID == elGUID:\n",
    "                parent_package.Elements.Delete(i)\n",
    "                parent_package.Elements.Refresh()\n",
    "                print(f\"Element {elGUID} deleted successfully.\")\n",
    "                break\n",
    "    else:\n",
    "        print(f\"Element {elGUID} not found.\")"
   ]
  },
  {
   "cell_type": "markdown",
   "metadata": {},
   "source": [
    "**Diagram layout:**\n",
    "\n",
    "Setting diagram fonts to Cambria and hiding \"isSubstitutable\" labels"
   ]
  },
  {
   "cell_type": "code",
   "execution_count": 19,
   "metadata": {},
   "outputs": [
    {
     "name": "stdout",
     "output_type": "stream",
     "text": [
      "2025-03-17 12:01:50   Diagram count: 0\n",
      "2025-03-17 12:01:50   ----------------------------\n",
      "2025-03-17 12:01:50   Package: PK\n",
      "2025-03-17 12:01:50   Diagram count: 1\n",
      "2025-03-17 12:01:50   Diagram: PK (4 objects)\n",
      "2025-03-17 12:01:50   ----------------------------\n",
      "2025-03-17 12:01:50   Package: B2GM\n",
      "2025-03-17 12:01:50   Diagram count: 1\n",
      "2025-03-17 12:01:50   Diagram: B2GM (3 objects)\n",
      "2025-03-17 12:01:50   ----------------------------\n",
      "2025-03-17 12:01:50   Package: B2GM EM\n",
      "2025-03-17 12:01:50   Diagram count: 1\n",
      "2025-03-17 12:01:50   Diagram: B2GM EM (4 objects)\n",
      "2025-03-17 12:01:50   ----------------------------\n",
      "2025-03-17 12:01:50   Package: B2GM LM\n",
      "2025-03-17 12:01:50   Diagram count: 1\n",
      "2025-03-17 12:01:50   Diagram: B2GM LM (4 objects)\n",
      "2025-03-17 12:01:50   ----------------------------\n",
      "2025-03-17 12:01:50   Package: B2GM PD\n",
      "2025-03-17 12:01:50   Diagram count: 1\n",
      "2025-03-17 12:01:50   Diagram: B2GM PD (8 objects)\n",
      "2025-03-17 12:01:50   ----------------------------\n",
      "2025-03-17 12:01:50   Package: BIM model\n",
      "2025-03-17 12:01:50   Diagram count: 1\n",
      "2025-03-17 12:01:50   Diagram: BIM model (14 objects)\n",
      "2025-03-17 12:01:50   ----------------------------\n",
      "2025-03-17 12:01:50   Package: GFM\n",
      "2025-03-17 12:01:50   Diagram count: 0\n",
      "2025-03-17 12:01:50   ----------------------------\n",
      "2025-03-17 12:01:50   Package: GIS model\n",
      "2025-03-17 12:01:50   Diagram count: 1\n",
      "2025-03-17 12:01:50   Diagram: GIS model (13 objects)\n",
      "2025-03-17 12:01:50   ----------------------------\n",
      "2025-03-17 12:01:50   Package: UC\n",
      "2025-03-17 12:01:50   Diagram count: 1\n",
      "2025-03-17 12:01:50   Diagram: UC (8 objects)\n"
     ]
    }
   ],
   "source": [
    "recDiagramCleaning(thePackage)"
   ]
  },
  {
   "cell_type": "markdown",
   "metadata": {},
   "source": [
    "Export error report"
   ]
  },
  {
   "cell_type": "code",
   "execution_count": null,
   "metadata": {},
   "outputs": [
    {
     "name": "stdout",
     "output_type": "stream",
     "text": [
      "\n",
      "Exported datatype report to file: C:\\Data\\GitHub\\ISO TC211\\HMMG\\EditorialVersion\\Controls.xlsx\n",
      "Exported definitions report to file: C:\\Data\\GitHub\\ISO TC211\\HMMG\\EditorialVersion\\Controls.xlsx\n",
      "Exported role names report to file: C:\\Data\\GitHub\\ISO TC211\\HMMG\\EditorialVersion\\Controls.xlsx\n",
      "Exported duplication report to file: C:\\Data\\GitHub\\ISO TC211\\HMMG\\EditorialVersion\\Controls.xlsx\n"
     ]
    },
    {
     "name": "stderr",
     "output_type": "stream",
     "text": [
      "C:\\Users\\JETKNU\\AppData\\Local\\Temp\\ipykernel_6384\\1846826498.py:7: FutureWarning: Starting with pandas version 3.0 all arguments of to_excel except for the argument 'excel_writer' will be keyword-only.\n",
      "  noDef.to_excel(writer,'Missing datatype references')\n",
      "C:\\Users\\JETKNU\\AppData\\Local\\Temp\\ipykernel_6384\\1846826498.py:12: FutureWarning: Starting with pandas version 3.0 all arguments of to_excel except for the argument 'excel_writer' will be keyword-only.\n",
      "  noDef.to_excel(writer,'Missing definitions')\n",
      "C:\\Users\\JETKNU\\AppData\\Local\\Temp\\ipykernel_6384\\1846826498.py:17: FutureWarning: Starting with pandas version 3.0 all arguments of to_excel except for the argument 'excel_writer' will be keyword-only.\n",
      "  noDef.to_excel(writer,'Missing role names')\n",
      "C:\\Users\\JETKNU\\AppData\\Local\\Temp\\ipykernel_6384\\1846826498.py:21: FutureWarning: Starting with pandas version 3.0 all arguments of to_excel except for the argument 'excel_writer' will be keyword-only.\n",
      "  non_unique.to_excel(writer,'Non unique names')\n"
     ]
    }
   ],
   "source": [
    "print('')\n",
    "file_path = mainFolder + '\\\\Controls.xlsx'\n",
    "# Export to Excel \n",
    "writer = pd.ExcelWriter(file_path)\n",
    "noDef = df[df['DependentPackage'].isna() | (df['DependentPackage'] == '')]\n",
    "if len(noDef) > 0:\n",
    "    noDef.to_excel(writer,'Missing datatype references') \n",
    "    print(f\"Exported datatype report to file: {file_path}\") \n",
    "\n",
    "noDef = defDf[defDf['Type']!='Role name']\n",
    "if len(noDef) > 0:\n",
    "    noDef.to_excel(writer,'Missing definitions') \n",
    "    print(f\"Exported definitions report to file: {file_path}\")   \n",
    "\n",
    "noDef = defDf[defDf['Type']=='Role name']\n",
    "if len(noDef) > 0:\n",
    "    noDef.to_excel(writer,'Missing role names') \n",
    "    print(f\"Exported role names report to file: {file_path}\") \n",
    "\n",
    "if len(non_unique) > 0:\n",
    "    non_unique.to_excel(writer,'Non unique names') \n",
    "    print(f\"Exported duplication report to file: {file_path}\") \n",
    "\n",
    "if len(dfE) > 0:\n",
    "    dfE.to_excel(writer,'Not in diagram') \n",
    "    print(f\"Exported diagram report to file: {file_path}\")     \n",
    "\n",
    "writer.close()\n"
   ]
  },
  {
   "cell_type": "markdown",
   "metadata": {},
   "source": [
    "**Export to XMI:**\n",
    "\n",
    "Export the package to XMI for upload to GitHub"
   ]
  },
  {
   "cell_type": "code",
   "execution_count": null,
   "metadata": {},
   "outputs": [],
   "source": [
    "# Replace colons (\":\") with underscores (\"_\") in the filename\n",
    "fName = thePackage.Name.replace(\":\", \"_\")\n",
    "# Replace forward slashes (\"/\") with an empty string\n",
    "fName = fName.replace(\"/\", \"\")\n",
    "# Combine the modified filename with the path and add the \".xml\" extension\n",
    "fName = xmiPath + fName + \".xml\"\n",
    "\n",
    "thePackage.IsControlled = -1\n",
    "thePackage.XMLPath = fName\n",
    "thePackage.BatchSave = 1\n",
    "thePackage.BatchLoad = 1\n",
    "thePackage.Update\n",
    "\n",
    "#XmiExportType = 3\n",
    "pI = eaRepo.GetProjectInterface()\n",
    "result = pI.ExportPackageXMI(thePackage.PackageGUID, 3, 1, -1, 1, 0, fName)\n",
    "print(result)"
   ]
  }
 ],
 "metadata": {
  "kernelspec": {
   "display_name": "Python 3",
   "language": "python",
   "name": "python3"
  },
  "language_info": {
   "codemirror_mode": {
    "name": "ipython",
    "version": 3
   },
   "file_extension": ".py",
   "mimetype": "text/x-python",
   "name": "python",
   "nbconvert_exporter": "python",
   "pygments_lexer": "ipython3",
   "version": "3.12.9"
  }
 },
 "nbformat": 4,
 "nbformat_minor": 2
}
